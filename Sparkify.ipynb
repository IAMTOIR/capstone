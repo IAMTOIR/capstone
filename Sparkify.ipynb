{
 "cells": [
  {
   "cell_type": "markdown",
   "metadata": {
    "id": "AUgCnvrxD2q6"
   },
   "source": [
    "# Sparkify Project Workspace\n",
    "This workspace contains a tiny subset (128MB) of the full dataset available (12GB). Feel free to use this workspace to build your project, or to explore a smaller subset with Spark before deploying your cluster on the cloud. Instructions for setting up your Spark cluster is included in the last lesson of the Extracurricular Spark Course content.\n",
    "\n",
    "You can follow the steps below to guide your data analysis and model building portion of this project."
   ]
  },
  {
   "cell_type": "code",
   "execution_count": 5,
   "metadata": {
    "colab": {
     "base_uri": "https://localhost:8080/"
    },
    "id": "8XKsun20EPnd",
    "outputId": "19395c99-3a5f-4934-8e29-e371b8bc83e1"
   },
   "outputs": [
    {
     "name": "stdout",
     "output_type": "stream",
     "text": [
      "Looking in indexes: https://pypi.org/simple, https://us-python.pkg.dev/colab-wheels/public/simple/\n",
      "Collecting pyspark\n",
      "  Downloading pyspark-3.3.1.tar.gz (281.4 MB)\n",
      "\u001b[K     |████████████████████████████████| 281.4 MB 44 kB/s \n",
      "\u001b[?25hCollecting py4j==0.10.9.5\n",
      "  Downloading py4j-0.10.9.5-py2.py3-none-any.whl (199 kB)\n",
      "\u001b[K     |████████████████████████████████| 199 kB 66.5 MB/s \n",
      "\u001b[?25hBuilding wheels for collected packages: pyspark\n",
      "  Building wheel for pyspark (setup.py) ... \u001b[?25l\u001b[?25hdone\n",
      "  Created wheel for pyspark: filename=pyspark-3.3.1-py2.py3-none-any.whl size=281845512 sha256=4adc2be5c23b5adb4383301747e01b501bbd15da63201cb40f1e21719d3f7edf\n",
      "  Stored in directory: /root/.cache/pip/wheels/43/dc/11/ec201cd671da62fa9c5cc77078235e40722170ceba231d7598\n",
      "Successfully built pyspark\n",
      "Installing collected packages: py4j, pyspark\n",
      "Successfully installed py4j-0.10.9.5 pyspark-3.3.1\n"
     ]
    }
   ],
   "source": [
    "!pip install pyspark"
   ]
  },
  {
   "cell_type": "code",
   "execution_count": 6,
   "metadata": {
    "colab": {
     "base_uri": "https://localhost:8080/"
    },
    "id": "TiPQlyAmFUha",
    "outputId": "a5b6ef7e-cb7a-4a2e-bdb7-e48a7b8c78df"
   },
   "outputs": [
    {
     "name": "stdout",
     "output_type": "stream",
     "text": [
      "Looking in indexes: https://pypi.org/simple, https://us-python.pkg.dev/colab-wheels/public/simple/\n",
      "Requirement already satisfied: gdown in /usr/local/lib/python3.8/dist-packages (4.4.0)\n",
      "Collecting gdown\n",
      "  Downloading gdown-4.6.0-py3-none-any.whl (14 kB)\n",
      "Requirement already satisfied: requests[socks] in /usr/local/lib/python3.8/dist-packages (from gdown) (2.23.0)\n",
      "Requirement already satisfied: filelock in /usr/local/lib/python3.8/dist-packages (from gdown) (3.8.2)\n",
      "Requirement already satisfied: beautifulsoup4 in /usr/local/lib/python3.8/dist-packages (from gdown) (4.6.3)\n",
      "Requirement already satisfied: tqdm in /usr/local/lib/python3.8/dist-packages (from gdown) (4.64.1)\n",
      "Requirement already satisfied: six in /usr/local/lib/python3.8/dist-packages (from gdown) (1.15.0)\n",
      "Requirement already satisfied: chardet<4,>=3.0.2 in /usr/local/lib/python3.8/dist-packages (from requests[socks]->gdown) (3.0.4)\n",
      "Requirement already satisfied: certifi>=2017.4.17 in /usr/local/lib/python3.8/dist-packages (from requests[socks]->gdown) (2022.12.7)\n",
      "Requirement already satisfied: idna<3,>=2.5 in /usr/local/lib/python3.8/dist-packages (from requests[socks]->gdown) (2.10)\n",
      "Requirement already satisfied: urllib3!=1.25.0,!=1.25.1,<1.26,>=1.21.1 in /usr/local/lib/python3.8/dist-packages (from requests[socks]->gdown) (1.24.3)\n",
      "Requirement already satisfied: PySocks!=1.5.7,>=1.5.6 in /usr/local/lib/python3.8/dist-packages (from requests[socks]->gdown) (1.7.1)\n",
      "Installing collected packages: gdown\n",
      "  Attempting uninstall: gdown\n",
      "    Found existing installation: gdown 4.4.0\n",
      "    Uninstalling gdown-4.4.0:\n",
      "      Successfully uninstalled gdown-4.4.0\n",
      "Successfully installed gdown-4.6.0\n"
     ]
    }
   ],
   "source": [
    "!pip install -U --no-cache-dir gdown --pre"
   ]
  },
  {
   "cell_type": "code",
   "execution_count": 7,
   "metadata": {
    "colab": {
     "base_uri": "https://localhost:8080/"
    },
    "id": "4EeECgBoEfwe",
    "outputId": "a37e5f70-ff7a-43dc-c8b5-db1f0d74c499"
   },
   "outputs": [
    {
     "name": "stdout",
     "output_type": "stream",
     "text": [
      "/usr/local/lib/python3.8/dist-packages/gdown/cli.py:121: FutureWarning: Option `--id` was deprecated in version 4.3.1 and will be removed in 5.0. You don't need to pass it anymore to use a file ID.\n",
      "  warnings.warn(\n",
      "Downloading...\n",
      "From: https://drive.google.com/uc?id=1GlqW-889y-JW7t6WaqMANRawKCc4Hre9\n",
      "To: /content/mini_sparkify_event_data.json\n",
      "100% 128M/128M [00:00<00:00, 171MB/s]\n"
     ]
    }
   ],
   "source": [
    "!gdown --id 1GlqW-889y-JW7t6WaqMANRawKCc4Hre9"
   ]
  },
  {
   "cell_type": "code",
   "execution_count": 8,
   "metadata": {
    "id": "gKLDE96nD2q8"
   },
   "outputs": [],
   "source": [
    "# import libraries\n",
    "import numpy as np\n",
    "import matplotlib.pyplot as plt\n",
    "import seaborn as sns\n",
    "import missingno as msno\n",
    "import datetime\n",
    "import time\n",
    "\n",
    "from pyspark.sql import SparkSession, Row\n",
    "from pyspark.sql.functions import avg, col, concat, desc, explode, lit, min, max, split, udf, when\n",
    "from pyspark.sql.types import IntegerType\n",
    "from pyspark.sql.functions import sum as Fsum\n",
    "from pyspark.sql.window import Window\n",
    "from pyspark.sql import functions as F\n",
    "from pyspark.sql.functions import *\n",
    "from pyspark.ml.evaluation import MulticlassClassificationEvaluator\n",
    "\n",
    "from pyspark.mllib.evaluation import BinaryClassificationMetrics\n",
    "\n",
    "from pyspark.ml.classification import LogisticRegression, RandomForestClassifier, GBTClassifier, LinearSVC, NaiveBayes\n",
    "from pyspark.ml.evaluation import BinaryClassificationEvaluator\n",
    "from pyspark.ml.feature import Normalizer, StringIndexer, VectorAssembler, StandardScaler\n",
    "from pyspark.ml.tuning import CrossValidator, ParamGridBuilder, CrossValidatorModel\n",
    "\n",
    "import re"
   ]
  },
  {
   "cell_type": "code",
   "execution_count": 9,
   "metadata": {
    "id": "mY_A25wRD2q9"
   },
   "outputs": [],
   "source": [
    "# create a Spark session\n",
    "spark = SparkSession.builder\\\n",
    "    .appName(\"Sparkify Analysis\")\\\n",
    "    .getOrCreate()"
   ]
  },
  {
   "cell_type": "markdown",
   "metadata": {
    "id": "E8EdwWn2D2q-"
   },
   "source": [
    "# Load and Clean Dataset\n",
    "In this workspace, the mini-dataset file is `mini_sparkify_event_data.json`. Load and clean the dataset, checking for invalid or missing data - for example, records without userids or sessionids. "
   ]
  },
  {
   "cell_type": "markdown",
   "metadata": {
    "id": "Yux5KDjnD2q-"
   },
   "source": [
    "**Load data**"
   ]
  },
  {
   "cell_type": "code",
   "execution_count": 10,
   "metadata": {
    "id": "-uU99doyD2q-"
   },
   "outputs": [],
   "source": [
    "# Load JSON Event data\n",
    "df = spark.read.json('./mini_sparkify_event_data.json')"
   ]
  },
  {
   "cell_type": "code",
   "execution_count": 11,
   "metadata": {
    "colab": {
     "base_uri": "https://localhost:8080/"
    },
    "id": "N8llMXctD2q_",
    "outputId": "6d74a399-ff3a-41a5-aa5d-b42906b732d2"
   },
   "outputs": [
    {
     "name": "stdout",
     "output_type": "stream",
     "text": [
      "Dataframe shape: (286500, 18)\n"
     ]
    }
   ],
   "source": [
    "print(f'Dataframe shape: ({df.count()}, {len(df.columns)})')"
   ]
  },
  {
   "cell_type": "code",
   "execution_count": 12,
   "metadata": {
    "colab": {
     "base_uri": "https://localhost:8080/"
    },
    "id": "iA1_YWcgD2rA",
    "outputId": "a60466c3-86e9-48cb-bfec-fd0fff5f98c5"
   },
   "outputs": [
    {
     "data": {
      "text/plain": [
       "Row(artist='Martha Tilston', auth='Logged In', firstName='Colin', gender='M', itemInSession=50, lastName='Freeman', length=277.89016, level='paid', location='Bakersfield, CA', method='PUT', page='NextSong', registration=1538173362000, sessionId=29, song='Rockpools', status=200, ts=1538352117000, userAgent='Mozilla/5.0 (Windows NT 6.1; WOW64; rv:31.0) Gecko/20100101 Firefox/31.0', userId='30')"
      ]
     },
     "execution_count": 12,
     "metadata": {},
     "output_type": "execute_result"
    }
   ],
   "source": [
    "df.head()"
   ]
  },
  {
   "cell_type": "code",
   "execution_count": 13,
   "metadata": {
    "colab": {
     "base_uri": "https://localhost:8080/"
    },
    "id": "ki2SaHXzD2rA",
    "outputId": "832ac6d4-36ab-436f-9583-8bebb22fba80"
   },
   "outputs": [
    {
     "name": "stdout",
     "output_type": "stream",
     "text": [
      "root\n",
      " |-- artist: string (nullable = true)\n",
      " |-- auth: string (nullable = true)\n",
      " |-- firstName: string (nullable = true)\n",
      " |-- gender: string (nullable = true)\n",
      " |-- itemInSession: long (nullable = true)\n",
      " |-- lastName: string (nullable = true)\n",
      " |-- length: double (nullable = true)\n",
      " |-- level: string (nullable = true)\n",
      " |-- location: string (nullable = true)\n",
      " |-- method: string (nullable = true)\n",
      " |-- page: string (nullable = true)\n",
      " |-- registration: long (nullable = true)\n",
      " |-- sessionId: long (nullable = true)\n",
      " |-- song: string (nullable = true)\n",
      " |-- status: long (nullable = true)\n",
      " |-- ts: long (nullable = true)\n",
      " |-- userAgent: string (nullable = true)\n",
      " |-- userId: string (nullable = true)\n",
      "\n"
     ]
    }
   ],
   "source": [
    "df.printSchema()"
   ]
  },
  {
   "cell_type": "code",
   "execution_count": 14,
   "metadata": {
    "colab": {
     "base_uri": "https://localhost:8080/"
    },
    "id": "q-gv4xBXD2rB",
    "outputId": "c59863b2-ad08-4b62-90e6-ccc324b2e899"
   },
   "outputs": [
    {
     "name": "stdout",
     "output_type": "stream",
     "text": [
      "+-------+------------------+----------+---------+------+------------------+--------+------------------+------+-----------------+------+-------+--------------------+-----------------+--------------------+------------------+--------------------+--------------------+------------------+\n",
      "|summary|            artist|      auth|firstName|gender|     itemInSession|lastName|            length| level|         location|method|   page|        registration|        sessionId|                song|            status|                  ts|           userAgent|            userId|\n",
      "+-------+------------------+----------+---------+------+------------------+--------+------------------+------+-----------------+------+-------+--------------------+-----------------+--------------------+------------------+--------------------+--------------------+------------------+\n",
      "|  count|            228108|    286500|   278154|278154|            286500|  278154|            228108|286500|           278154|286500| 286500|              278154|           286500|              228108|            286500|              286500|              278154|            286500|\n",
      "|   mean| 551.0852017937219|      null|     null|  null|114.41421291448516|    null|249.11718197783662|  null|             null|  null|   null|1.535358834085650...|1041.526554973822|            Infinity|210.05459685863875|1.540956889810432E12|                null| 59682.02278593872|\n",
      "| stddev|1217.7693079161374|      null|     null|  null|129.76726201141042|    null| 99.23517921058307|  null|             null|  null|   null|  3.29132161632862E9|726.7762634630783|                 NaN|31.505078488422217| 1.507543960818767E9|                null|109091.94999910527|\n",
      "|    min|               !!!| Cancelled| Adelaida|     F|                 0|   Adams|           0.78322|  free|       Albany, OR|   GET|  About|       1521380675000|                1|\u001c",
      "\n",
      "ÃÂg ÃÂtti Gr...|               200|       1538352117000|\"Mozilla/5.0 (Mac...|                  |\n",
      "|    max| ÃÂlafur Arnalds|Logged Out|   Zyonna|     M|              1321|  Wright|        3024.66567|  paid|Winston-Salem, NC|   PUT|Upgrade|       1543247354000|             2474|ÃÂau hafa slopp...|               404|       1543799476000|Mozilla/5.0 (comp...|                99|\n",
      "+-------+------------------+----------+---------+------+------------------+--------+------------------+------+-----------------+------+-------+--------------------+-----------------+--------------------+------------------+--------------------+--------------------+------------------+\n",
      "\n"
     ]
    }
   ],
   "source": [
    "df.describe().show()"
   ]
  },
  {
   "cell_type": "code",
   "execution_count": 15,
   "metadata": {
    "colab": {
     "base_uri": "https://localhost:8080/"
    },
    "id": "nnhf3v8yD2rB",
    "outputId": "75997376-c84b-4139-f194-a4cf59930c29"
   },
   "outputs": [
    {
     "data": {
      "text/plain": [
       "artist           58392\n",
       "auth                 0\n",
       "firstName         8346\n",
       "gender            8346\n",
       "itemInSession        0\n",
       "lastName          8346\n",
       "length           58392\n",
       "level                0\n",
       "location          8346\n",
       "method               0\n",
       "page                 0\n",
       "registration      8346\n",
       "sessionId            0\n",
       "song             58392\n",
       "status               0\n",
       "ts                   0\n",
       "userAgent         8346\n",
       "userId               0\n",
       "dtype: int64"
      ]
     },
     "execution_count": 15,
     "metadata": {},
     "output_type": "execute_result"
    }
   ],
   "source": [
    "df.toPandas().isnull().sum()"
   ]
  },
  {
   "cell_type": "markdown",
   "metadata": {
    "id": "5ao8ri0XD2rB"
   },
   "source": [
    "**Clean data**"
   ]
  },
  {
   "cell_type": "code",
   "execution_count": 16,
   "metadata": {
    "colab": {
     "base_uri": "https://localhost:8080/",
     "height": 683
    },
    "id": "9Ywe536mD2rC",
    "outputId": "626e1ef3-b2e0-4605-ab06-e248b60c8ffe"
   },
   "outputs": [
    {
     "data": {
      "text/plain": [
       "<matplotlib.axes._subplots.AxesSubplot at 0x7fb5745e1550>"
      ]
     },
     "execution_count": 16,
     "metadata": {},
     "output_type": "execute_result"
    },
    {
     "data": {
      "image/png": "[encoded data removed]",
      "text/plain": [
       "<Figure size 1800x720 with 3 Axes>"
      ]
     },
     "metadata": {
      "needs_background": "light"
     },
     "output_type": "display_data"
    }
   ],
   "source": [
    "# Using missingno package to visualize missing values in data\n",
    "msno.bar(df.toPandas())"
   ]
  },
  {
   "cell_type": "markdown",
   "metadata": {
    "id": "wPJX_kQnD2rC"
   },
   "source": [
    "I will drop records that do not have `userId` or `sessionId`"
   ]
  },
  {
   "cell_type": "code",
   "execution_count": 17,
   "metadata": {
    "colab": {
     "base_uri": "https://localhost:8080/"
    },
    "id": "sICpX20pD2rC",
    "outputId": "5fbe67b2-851d-4aa8-ca4b-c9833353fadf"
   },
   "outputs": [
    {
     "name": "stdout",
     "output_type": "stream",
     "text": [
      "+--------------------+---------+---------+------+-------------+--------+---------+-----+--------------------+------+---------------+-------------+---------+--------------------+------+-------------+--------------------+------+\n",
      "|              artist|     auth|firstName|gender|itemInSession|lastName|   length|level|            location|method|           page| registration|sessionId|                song|status|           ts|           userAgent|userId|\n",
      "+--------------------+---------+---------+------+-------------+--------+---------+-----+--------------------+------+---------------+-------------+---------+--------------------+------+-------------+--------------------+------+\n",
      "|      Martha Tilston|Logged In|    Colin|     M|           50| Freeman|277.89016| paid|     Bakersfield, CA|   PUT|       NextSong|1538173362000|       29|           Rockpools|   200|1538352117000|Mozilla/5.0 (Wind...|    30|\n",
      "|    Five Iron Frenzy|Logged In|    Micah|     M|           79|    Long|236.09424| free|Boston-Cambridge-...|   PUT|       NextSong|1538331630000|        8|              Canada|   200|1538352180000|\"Mozilla/5.0 (Win...|     9|\n",
      "|        Adam Lambert|Logged In|    Colin|     M|           51| Freeman| 282.8273| paid|     Bakersfield, CA|   PUT|       NextSong|1538173362000|       29|   Time For Miracles|   200|1538352394000|Mozilla/5.0 (Wind...|    30|\n",
      "|              Enigma|Logged In|    Micah|     M|           80|    Long|262.71302| free|Boston-Cambridge-...|   PUT|       NextSong|1538331630000|        8|Knocking On Forbi...|   200|1538352416000|\"Mozilla/5.0 (Win...|     9|\n",
      "|           Daft Punk|Logged In|    Colin|     M|           52| Freeman|223.60771| paid|     Bakersfield, CA|   PUT|       NextSong|1538173362000|       29|Harder Better Fas...|   200|1538352676000|Mozilla/5.0 (Wind...|    30|\n",
      "|The All-American ...|Logged In|    Micah|     M|           81|    Long|208.29995| free|Boston-Cambridge-...|   PUT|       NextSong|1538331630000|        8|      Don't Leave Me|   200|1538352678000|\"Mozilla/5.0 (Win...|     9|\n",
      "|The Velvet Underg...|Logged In|    Micah|     M|           82|    Long|260.46649| free|Boston-Cambridge-...|   PUT|       NextSong|1538331630000|        8|         Run Run Run|   200|1538352886000|\"Mozilla/5.0 (Win...|     9|\n",
      "|        Starflyer 59|Logged In|    Colin|     M|           53| Freeman|185.44281| paid|     Bakersfield, CA|   PUT|       NextSong|1538173362000|       29|Passengers (Old A...|   200|1538352899000|Mozilla/5.0 (Wind...|    30|\n",
      "|                null|Logged In|    Colin|     M|           54| Freeman|     null| paid|     Bakersfield, CA|   PUT|Add to Playlist|1538173362000|       29|                null|   200|1538352905000|Mozilla/5.0 (Wind...|    30|\n",
      "|            Frumpies|Logged In|    Colin|     M|           55| Freeman|134.47791| paid|     Bakersfield, CA|   PUT|       NextSong|1538173362000|       29|          Fuck Kitty|   200|1538353084000|Mozilla/5.0 (Wind...|    30|\n",
      "|        Britt Nicole|Logged In|    Micah|     M|           83|    Long| 229.8771| free|Boston-Cambridge-...|   PUT|       NextSong|1538331630000|        8|   Walk On The Water|   200|1538353146000|\"Mozilla/5.0 (Win...|     9|\n",
      "|                null|Logged In|    Micah|     M|           84|    Long|     null| free|Boston-Cambridge-...|   GET|    Roll Advert|1538331630000|        8|                null|   200|1538353150000|\"Mozilla/5.0 (Win...|     9|\n",
      "|Edward Sharpe & T...|Logged In|    Colin|     M|           56| Freeman|223.58159| paid|     Bakersfield, CA|   PUT|       NextSong|1538173362000|       29|                Jade|   200|1538353218000|Mozilla/5.0 (Wind...|    30|\n",
      "|               Tesla|Logged In|    Micah|     M|           85|    Long|201.06404| free|Boston-Cambridge-...|   PUT|       NextSong|1538331630000|        8|      Gettin' Better|   200|1538353375000|\"Mozilla/5.0 (Win...|     9|\n",
      "|                null|Logged In|    Micah|     M|           86|    Long|     null| free|Boston-Cambridge-...|   PUT|      Thumbs Up|1538331630000|        8|                null|   307|1538353376000|\"Mozilla/5.0 (Win...|     9|\n",
      "|         Stan Mosley|Logged In|    Colin|     M|           57| Freeman|246.69995| paid|     Bakersfield, CA|   PUT|       NextSong|1538173362000|       29|   So-Called Friends|   200|1538353441000|Mozilla/5.0 (Wind...|    30|\n",
      "|Florence + The Ma...|Logged In|    Micah|     M|           87|    Long|168.64608| free|Boston-Cambridge-...|   PUT|       NextSong|1538331630000|        8| You've Got The Love|   200|1538353576000|\"Mozilla/5.0 (Win...|     9|\n",
      "|   Tokyo Police Club|Logged In|  Ashlynn|     F|            0|Williams| 166.1122| free|     Tallahassee, FL|   PUT|       NextSong|1537365219000|      217|Citizens Of Tomorrow|   200|1538353668000|\"Mozilla/5.0 (Mac...|    74|\n",
      "|             Orishas|Logged In|    Colin|     M|           58| Freeman|222.22322| paid|     Bakersfield, CA|   PUT|       NextSong|1538173362000|       29|           Represent|   200|1538353687000|Mozilla/5.0 (Wind...|    30|\n",
      "|             Ratatat|Logged In|    Micah|     M|           88|    Long|229.77261| free|Boston-Cambridge-...|   PUT|       NextSong|1538331630000|        8|              Swisha|   200|1538353744000|\"Mozilla/5.0 (Win...|     9|\n",
      "+--------------------+---------+---------+------+-------------+--------+---------+-----+--------------------+------+---------------+-------------+---------+--------------------+------+-------------+--------------------+------+\n",
      "only showing top 20 rows\n",
      "\n"
     ]
    }
   ],
   "source": [
    "df = df.dropna(how = 'any', subset = [\"userId\", \"sessionId\"])\n",
    "df.show()"
   ]
  },
  {
   "cell_type": "markdown",
   "metadata": {
    "id": "tUfybYLOD2rD"
   },
   "source": [
    "Check and drop if exists empty string values in `userId` columns"
   ]
  },
  {
   "cell_type": "code",
   "execution_count": 18,
   "metadata": {
    "colab": {
     "base_uri": "https://localhost:8080/"
    },
    "id": "HAHrzDfqD2rE",
    "outputId": "bd94e519-0e35-4da2-c79f-8678eb300167"
   },
   "outputs": [
    {
     "data": {
      "text/plain": [
       "8346"
      ]
     },
     "execution_count": 18,
     "metadata": {},
     "output_type": "execute_result"
    }
   ],
   "source": [
    "df.filter(df.userId == \"\").count()"
   ]
  },
  {
   "cell_type": "code",
   "execution_count": 19,
   "metadata": {
    "id": "dOdPubVFD2rE"
   },
   "outputs": [],
   "source": [
    "df = df.filter(df.userId != \"\")"
   ]
  },
  {
   "cell_type": "code",
   "execution_count": 20,
   "metadata": {
    "colab": {
     "base_uri": "https://localhost:8080/"
    },
    "id": "zJ4OvkyeD2rF",
    "outputId": "1962a9e9-fc27-4ea3-da38-7eefde40dcaf"
   },
   "outputs": [
    {
     "data": {
      "text/plain": [
       "278154"
      ]
     },
     "execution_count": 20,
     "metadata": {},
     "output_type": "execute_result"
    }
   ],
   "source": [
    "df.count()"
   ]
  },
  {
   "cell_type": "markdown",
   "metadata": {
    "id": "2Uv4MTamD2rF"
   },
   "source": [
    "After cleaning missing values and invalid values, there is 278154 records remaining in the dataset."
   ]
  },
  {
   "cell_type": "markdown",
   "metadata": {
    "id": "8wiPEUXaD2rF"
   },
   "source": [
    "# Exploratory Data Analysis\n",
    "When you're working with the full dataset, perform EDA by loading a small subset of the data and doing basic manipulations within Spark. In this workspace, you are already provided a small subset of data you can explore.\n",
    "\n",
    "### Define Churn\n",
    "\n",
    ">I defined churn as people who cancelled Sparkify. To check this, I used the `page` columns in data to check for 'Cancellation Confirmation' page appeared. If exists, that is churned user.\n",
    "\n",
    "### Explore Data\n",
    "Once you've defined churn, perform some exploratory data analysis to observe the behavior for users who stayed vs users who churned. You can start by exploring aggregates on these two groups of users, observing how much of a specific action they experienced per a certain time unit or number of songs played."
   ]
  },
  {
   "cell_type": "code",
   "execution_count": 21,
   "metadata": {
    "colab": {
     "base_uri": "https://localhost:8080/"
    },
    "id": "U7V3SkEXD2rG",
    "outputId": "ecc18539-dbba-43fb-e635-92a7bfdbf4ff"
   },
   "outputs": [
    {
     "data": {
      "text/plain": [
       "52"
      ]
     },
     "execution_count": 21,
     "metadata": {},
     "output_type": "execute_result"
    }
   ],
   "source": [
    "# Number of users who churned\n",
    "df.select([\"userId\", \"page\"]).where(df.page == \"Cancellation Confirmation\").count()"
   ]
  },
  {
   "cell_type": "markdown",
   "metadata": {
    "id": "0A1SlYJaD2rH"
   },
   "source": [
    "I create the flag for churned users by a ssigning a 1 if a user has been churned and a 0 if they have not. This flag will be used to create a new column named `churn`, which will be used as the Target Column for later Modelling stage."
   ]
  },
  {
   "cell_type": "code",
   "execution_count": 22,
   "metadata": {
    "id": "KEM7kPInD2rH"
   },
   "outputs": [],
   "source": [
    "# Define a User Define Function to flag 1's and 0's \n",
    "\n",
    "churn_flag_function = udf(lambda x: 1 if x == \"Cancellation Confirmation\" else 0, IntegerType())"
   ]
  },
  {
   "cell_type": "code",
   "execution_count": 23,
   "metadata": {
    "colab": {
     "base_uri": "https://localhost:8080/"
    },
    "id": "Ws4l-e_UD2rH",
    "outputId": "30f991fe-c200-478f-f0cf-2ae3b11936e4"
   },
   "outputs": [
    {
     "data": {
      "text/plain": [
       "Row(artist='Martha Tilston', auth='Logged In', firstName='Colin', gender='M', itemInSession=50, lastName='Freeman', length=277.89016, level='paid', location='Bakersfield, CA', method='PUT', page='NextSong', registration=1538173362000, sessionId=29, song='Rockpools', status=200, ts=1538352117000, userAgent='Mozilla/5.0 (Windows NT 6.1; WOW64; rv:31.0) Gecko/20100101 Firefox/31.0', userId='30', churn=0)"
      ]
     },
     "execution_count": 23,
     "metadata": {},
     "output_type": "execute_result"
    }
   ],
   "source": [
    "# Create `churn` column\n",
    "df = df.withColumn(\"churn\", churn_flag_function(\"page\"))\n",
    "df.head()"
   ]
  },
  {
   "cell_type": "markdown",
   "metadata": {
    "id": "D76QYmj9D2rI"
   },
   "source": [
    "Now I will sort records for `userId` in reverse time order and add up the values in the `churn` column."
   ]
  },
  {
   "cell_type": "code",
   "execution_count": 24,
   "metadata": {
    "colab": {
     "base_uri": "https://localhost:8080/",
     "height": 567
    },
    "id": "MEuUubmBD2rI",
    "outputId": "930bead5-f259-4123-fc3c-3bf3246eb1d3"
   },
   "outputs": [
    {
     "data": {
      "image/png": "[encoded data removed]",
      "text/plain": [
       "<Figure size 1152x648 with 1 Axes>"
      ]
     },
     "metadata": {
      "needs_background": "light"
     },
     "output_type": "display_data"
    }
   ],
   "source": [
    "windowval = Window.partitionBy(\"userId\").orderBy(desc(\"ts\")).rangeBetween(Window.unboundedPreceding, 0)\n",
    "df = df.withColumn(\"churn\", Fsum(\"churn\").over(windowval))\n",
    "df_churn = df.select(['userId', 'churn']).dropDuplicates().groupBy('churn').count()\n",
    "\n",
    "plt.figure(figsize = [16,9])\n",
    "ax = sns.barplot(data = df_churn.toPandas(), x = 'churn', y='count')\n",
    "plt.title(\"Numbers of churned users\");"
   ]
  },
  {
   "cell_type": "code",
   "execution_count": 25,
   "metadata": {
    "colab": {
     "base_uri": "https://localhost:8080/"
    },
    "id": "XYeJSJTtD2rI",
    "outputId": "88fae091-2a1d-40a4-8b6a-8618567c962d"
   },
   "outputs": [
    {
     "name": "stdout",
     "output_type": "stream",
     "text": [
      "+-----+-----+\n",
      "|churn|count|\n",
      "+-----+-----+\n",
      "|    0|  173|\n",
      "|    1|   52|\n",
      "+-----+-----+\n",
      "\n"
     ]
    }
   ],
   "source": [
    "df_churn.show()"
   ]
  },
  {
   "cell_type": "markdown",
   "metadata": {
    "id": "2Qo-jkfhD2rJ"
   },
   "source": [
    "> As we can see from the above chart, there are only 52 users churned while 173 other user stayed. This information is noteworthy to take when it comes to the Modeling stage since this can lead to Imbalance Data Issue. "
   ]
  },
  {
   "cell_type": "markdown",
   "metadata": {
    "id": "t-HKbANYD2rJ"
   },
   "source": [
    "**Time Spent Analysis - Compare between 2 groups**"
   ]
  },
  {
   "cell_type": "code",
   "execution_count": 26,
   "metadata": {
    "id": "nepi62ZZD2rJ"
   },
   "outputs": [],
   "source": [
    "time_churn_df = df.filter(df.churn==1).toPandas()\n",
    "time_nonchurn_df = df.filter(df.churn==0).toPandas()"
   ]
  },
  {
   "cell_type": "code",
   "execution_count": 27,
   "metadata": {
    "colab": {
     "base_uri": "https://localhost:8080/",
     "height": 312
    },
    "id": "klMdgl90D2rK",
    "outputId": "67273434-5d93-419d-d791-fe283fe7a114"
   },
   "outputs": [
    {
     "data": {
      "text/plain": [
       "Text(0.5, 1.0, 'Time spent distribution - Churned Users')"
      ]
     },
     "execution_count": 27,
     "metadata": {},
     "output_type": "execute_result"
    },
    {
     "data": {
      "image/png": "[encoded data removed]",
      "text/plain": [
       "<Figure size 432x288 with 1 Axes>"
      ]
     },
     "metadata": {
      "needs_background": "light"
     },
     "output_type": "display_data"
    }
   ],
   "source": [
    "# Time Spent distribution - Churned Users\n",
    "bin_edges = np.arange (10, time_churn_df['length'].max()+25, 25)\n",
    "plt.hist(data = time_churn_df, x = 'length', bins = bin_edges)\n",
    "plt.xlim(0,700)\n",
    "plt.xlabel('Time Spent')\n",
    "plt.ylabel('Frequency')\n",
    "plt.title('Time spent distribution - Churned Users')"
   ]
  },
  {
   "cell_type": "code",
   "execution_count": 28,
   "metadata": {
    "colab": {
     "base_uri": "https://localhost:8080/",
     "height": 312
    },
    "id": "8hSnEjSXD2rK",
    "outputId": "2fd665d1-f0d7-47a0-b164-a5797f8a14c0"
   },
   "outputs": [
    {
     "data": {
      "text/plain": [
       "Text(0.5, 1.0, 'Time spent distribution - Non Churned Users')"
      ]
     },
     "execution_count": 28,
     "metadata": {},
     "output_type": "execute_result"
    },
    {
     "data": {
      "image/png": "[encoded data removed]",
      "text/plain": [
       "<Figure size 432x288 with 1 Axes>"
      ]
     },
     "metadata": {
      "needs_background": "light"
     },
     "output_type": "display_data"
    }
   ],
   "source": [
    "# Time Spent distribution - Non-Churned Users\n",
    "bin_edges = np.arange (10, time_nonchurn_df['length'].max()+25, 25)\n",
    "plt.hist(data = time_nonchurn_df, x = 'length', bins = bin_edges)\n",
    "plt.xlim(0,700)\n",
    "plt.xlabel('Time Spent')\n",
    "plt.ylabel('Frequency')\n",
    "plt.title('Time spent distribution - Non Churned Users')"
   ]
  },
  {
   "cell_type": "markdown",
   "metadata": {
    "id": "3j-c0PMKD2rL"
   },
   "source": [
    "It seemed that there is no significant difference between these two groups in the length of time they spent. As a result, it will not help much in the churn prediction."
   ]
  },
  {
   "cell_type": "markdown",
   "metadata": {
    "id": "vbAMEXRFD2rL"
   },
   "source": [
    "**Level - Compare between 2 groups**"
   ]
  },
  {
   "cell_type": "code",
   "execution_count": 29,
   "metadata": {
    "colab": {
     "base_uri": "https://localhost:8080/"
    },
    "id": "1bJ_mhqaD2rL",
    "outputId": "a5fd3d73-89c2-4ecc-b63a-6dd72e9e8a30"
   },
   "outputs": [
    {
     "name": "stdout",
     "output_type": "stream",
     "text": [
      "+-----+-----+-----+\n",
      "|level|churn|count|\n",
      "+-----+-----+-----+\n",
      "| free|    0|  149|\n",
      "| paid|    0|  129|\n",
      "| free|    1|   46|\n",
      "| paid|    1|   36|\n",
      "+-----+-----+-----+\n",
      "\n"
     ]
    }
   ],
   "source": [
    "df_level = df.select(['userId', 'churn', 'level']).dropDuplicates().groupBy('level','churn').count()\n",
    "df_level.show()"
   ]
  },
  {
   "cell_type": "markdown",
   "metadata": {
    "id": "4MQvCWn7D2rM"
   },
   "source": [
    "Let's plot it to get a better visualization"
   ]
  },
  {
   "cell_type": "code",
   "execution_count": 30,
   "metadata": {
    "colab": {
     "base_uri": "https://localhost:8080/",
     "height": 567
    },
    "id": "DqlH1pmDD2rM",
    "outputId": "512caa5d-0633-4a72-f263-c8038e93211c"
   },
   "outputs": [
    {
     "data": {
      "image/png": "[encoded data removed]",
      "text/plain": [
       "<Figure size 1152x648 with 1 Axes>"
      ]
     },
     "metadata": {
      "needs_background": "light"
     },
     "output_type": "display_data"
    }
   ],
   "source": [
    "plt.figure(figsize = [16,9])\n",
    "ax = sns.barplot(data = df_level.toPandas(), x = 'churn', y='count', hue = 'level')\n",
    "ax.legend(loc = 1, ncol = 2, framealpha =1, title = 'level')\n",
    "plt.title(\"Number of Users in each level in two groups\");\n"
   ]
  },
  {
   "cell_type": "markdown",
   "metadata": {
    "id": "mrXr2m-ED2rM"
   },
   "source": [
    "From the chart, there is a slightly difference between free users compare with the paid ones. Users who don't pay for the service have more people who churn than the users who pay.  \n",
    "It's still not clear enough to perform churn prediction. I will do more expore in other features to find more interesting information then."
   ]
  },
  {
   "cell_type": "markdown",
   "metadata": {
    "id": "73sBL0YTD2rN"
   },
   "source": [
    "**Gender - Compare between 2 groups**"
   ]
  },
  {
   "cell_type": "code",
   "execution_count": 31,
   "metadata": {
    "colab": {
     "base_uri": "https://localhost:8080/"
    },
    "id": "lImG6Mn3D2rN",
    "outputId": "4fe97402-fc0d-4b93-b75d-747e0ce8562c"
   },
   "outputs": [
    {
     "name": "stdout",
     "output_type": "stream",
     "text": [
      "+------+-----+-----+\n",
      "|gender|churn|count|\n",
      "+------+-----+-----+\n",
      "|     F|    0|   84|\n",
      "|     F|    1|   20|\n",
      "|     M|    0|   89|\n",
      "|     M|    1|   32|\n",
      "+------+-----+-----+\n",
      "\n"
     ]
    }
   ],
   "source": [
    "df_gender = df.select(['userId', 'churn', 'gender']).dropDuplicates().groupBy('gender','churn').count()\n",
    "df_gender.show()"
   ]
  },
  {
   "cell_type": "markdown",
   "metadata": {
    "id": "2ESIrZJTD2rN"
   },
   "source": [
    "Once again, for better visualization, let's plot it with Seaborn"
   ]
  },
  {
   "cell_type": "code",
   "execution_count": 32,
   "metadata": {
    "colab": {
     "base_uri": "https://localhost:8080/",
     "height": 567
    },
    "id": "LPWLyqWfD2rO",
    "outputId": "432b511a-38d4-431a-8292-a1cb94cd54e5"
   },
   "outputs": [
    {
     "data": {
      "image/png": "[encoded data removed]",
      "text/plain": [
       "<Figure size 1152x648 with 1 Axes>"
      ]
     },
     "metadata": {
      "needs_background": "light"
     },
     "output_type": "display_data"
    }
   ],
   "source": [
    "plt.figure(figsize = [16,9])\n",
    "ax = sns.barplot(data = df_gender.toPandas(), x = 'churn', y='count', hue = 'gender')\n",
    "ax.legend(loc = 1, ncol = 2, framealpha =1, title = 'gender')\n",
    "plt.title(\"Number of Users in each gender in two groups\");"
   ]
  },
  {
   "cell_type": "markdown",
   "metadata": {
    "id": "Jzp_CANED2rO"
   },
   "source": [
    "I can see that pretty much more male users are likely to churn compared to female users."
   ]
  },
  {
   "cell_type": "markdown",
   "metadata": {
    "id": "1AR8efrUD2rO"
   },
   "source": [
    "**Page Visited - Compare between 2 groups**"
   ]
  },
  {
   "cell_type": "code",
   "execution_count": 33,
   "metadata": {
    "colab": {
     "base_uri": "https://localhost:8080/"
    },
    "id": "vSm_MLQVD2rO",
    "outputId": "1886b70a-9f4e-4a98-e085-bf7feb36f601"
   },
   "outputs": [
    {
     "name": "stdout",
     "output_type": "stream",
     "text": [
      "+--------------------+-----+-----+\n",
      "|                page|churn|count|\n",
      "+--------------------+-----+-----+\n",
      "|            Settings|    0|  152|\n",
      "|         Thumbs Down|    1|   48|\n",
      "|           Thumbs Up|    1|   50|\n",
      "|     Add to Playlist|    1|   50|\n",
      "|               Error|    1|   22|\n",
      "|               About|    1|   31|\n",
      "|         Thumbs Down|    0|  155|\n",
      "|         Roll Advert|    1|   50|\n",
      "|                Home|    0|  172|\n",
      "|Cancellation Conf...|    1|   52|\n",
      "+--------------------+-----+-----+\n",
      "only showing top 10 rows\n",
      "\n"
     ]
    }
   ],
   "source": [
    "df_page = df.select(['userId', 'churn', 'page']).dropDuplicates().groupBy('page','churn').count()\n",
    "df_page.show(10)"
   ]
  },
  {
   "cell_type": "code",
   "execution_count": 34,
   "metadata": {
    "id": "ET8a53e0D2rP"
   },
   "outputs": [],
   "source": [
    "page_churn_df = df_page.filter(df.churn==1).toPandas().sum()\n",
    "page_nonchurn_df = df_page.filter(df.churn==0).toPandas().sum()"
   ]
  },
  {
   "cell_type": "code",
   "execution_count": 35,
   "metadata": {
    "id": "slf1rdHqD2rP"
   },
   "outputs": [],
   "source": [
    "# calculate the rate of pages visited by those who churned vs. those who stayed\n",
    "df_page = df_page.toPandas()\n",
    "df_page['rate'] = np.where(\n",
    "    df_page['churn'] == 0, df_page['count']/page_nonchurn_df['count'], np.where(\n",
    "    df_page['churn'] == 1, df_page['count']/page_churn_df['count'],df_page['count']/page_churn_df['count'])) "
   ]
  },
  {
   "cell_type": "code",
   "execution_count": 36,
   "metadata": {
    "colab": {
     "base_uri": "https://localhost:8080/",
     "height": 621
    },
    "id": "4ACrmBiXD2rP",
    "outputId": "56f460dc-0a19-4177-80c2-3f21a56d4d4d"
   },
   "outputs": [
    {
     "data": {
      "image/png": "[encoded data removed]",
      "text/plain": [
       "<Figure size 1152x720 with 1 Axes>"
      ]
     },
     "metadata": {
      "needs_background": "light"
     },
     "output_type": "display_data"
    }
   ],
   "source": [
    "# plot the pages by churn\n",
    "plt.figure(figsize=[16,10])\n",
    "sns.barplot(data = df_page, x = 'rate', y = 'page', hue = 'churn')\n",
    "plt.title('Rate of Pages Navigated compare between two groups');"
   ]
  },
  {
   "cell_type": "markdown",
   "metadata": {
    "id": "wkaRplQaD2rQ"
   },
   "source": [
    "We can observe from the above chart that skipping to the next song was the most common activity for both users who stayed and users who left. More thumbs up gestures, friends, and song additions were made by those who were more inclined to stay."
   ]
  },
  {
   "cell_type": "markdown",
   "metadata": {
    "id": "GMXjylAAD2rQ"
   },
   "source": [
    "**Location - Compare between two groups**"
   ]
  },
  {
   "cell_type": "code",
   "execution_count": 37,
   "metadata": {
    "colab": {
     "base_uri": "https://localhost:8080/"
    },
    "id": "q_jceFqYD2rQ",
    "outputId": "55e5f0a0-8e71-4f39-b932-6b86ea91b518"
   },
   "outputs": [
    {
     "name": "stdout",
     "output_type": "stream",
     "text": [
      "+--------------------+-----+\n",
      "|            location|count|\n",
      "+--------------------+-----+\n",
      "|     Gainesville, FL| 1229|\n",
      "|Atlantic City-Ham...| 2176|\n",
      "|Deltona-Daytona B...|   73|\n",
      "|San Diego-Carlsba...|  754|\n",
      "|Kingsport-Bristol...| 1863|\n",
      "|New Haven-Milford...| 4007|\n",
      "|  Corpus Christi, TX|   11|\n",
      "|         Dubuque, IA|  651|\n",
      "|Las Vegas-Henders...| 2042|\n",
      "|Indianapolis-Carm...|  970|\n",
      "|Seattle-Tacoma-Be...|  246|\n",
      "|   Winston-Salem, NC|  819|\n",
      "|     Bakersfield, CA| 1775|\n",
      "|Los Angeles-Long ...|30131|\n",
      "|Minneapolis-St. P...| 2134|\n",
      "|San Francisco-Oak...| 2647|\n",
      "|Phoenix-Mesa-Scot...| 4846|\n",
      "|Allentown-Bethleh...|  815|\n",
      "|Miami-Fort Lauder...| 3764|\n",
      "|           Selma, AL| 2027|\n",
      "+--------------------+-----+\n",
      "only showing top 20 rows\n",
      "\n"
     ]
    }
   ],
   "source": [
    "df.select(['userId', 'churn', 'location']).groupBy('location').count().show()"
   ]
  },
  {
   "cell_type": "markdown",
   "metadata": {
    "id": "FTW17TkTD2rQ"
   },
   "source": [
    "We can extract te last two characters in `location` column, which is the state code to do this analysis"
   ]
  },
  {
   "cell_type": "code",
   "execution_count": 38,
   "metadata": {
    "id": "xA-zZ7FnD2rR"
   },
   "outputs": [],
   "source": [
    "# Create an User Define Function to get the last two characters\n",
    "get_state_code = udf(lambda x: x[-2:])"
   ]
  },
  {
   "cell_type": "code",
   "execution_count": 39,
   "metadata": {
    "colab": {
     "base_uri": "https://localhost:8080/"
    },
    "id": "mf50Ub2FD2rR",
    "outputId": "04588948-9385-4163-c023-1df5913fff92"
   },
   "outputs": [
    {
     "data": {
      "text/plain": [
       "Row(artist=None, auth='Logged In', firstName='Colin', gender='M', itemInSession=92, lastName='Larson', length=None, level='paid', location='Dallas-Fort Worth-Arlington, TX', method='GET', page='Home', registration=1537982255000, sessionId=2428, song=None, status=200, ts=1543587349000, userAgent='Mozilla/5.0 (Windows NT 6.1; WOW64; rv:30.0) Gecko/20100101 Firefox/30.0', userId='100', churn=0, state_code='TX')"
      ]
     },
     "execution_count": 39,
     "metadata": {},
     "output_type": "execute_result"
    }
   ],
   "source": [
    "# Create a new column call 'state_code'\n",
    "df_state = df.withColumn('state_code', get_state_code(df.location))\n",
    "df_state.head()"
   ]
  },
  {
   "cell_type": "markdown",
   "metadata": {
    "id": "nlE9b4v-D2rR"
   },
   "source": [
    "Use Seaborn to plot it"
   ]
  },
  {
   "cell_type": "code",
   "execution_count": 40,
   "metadata": {
    "colab": {
     "base_uri": "https://localhost:8080/",
     "height": 621
    },
    "id": "nmxfKyKPD2rS",
    "outputId": "97ca285a-961c-4ee2-f532-d5f016bdfc63"
   },
   "outputs": [
    {
     "data": {
      "image/png": "[encoded data removed]",
      "text/plain": [
       "<Figure size 1152x720 with 1 Axes>"
      ]
     },
     "metadata": {
      "needs_background": "light"
     },
     "output_type": "display_data"
    }
   ],
   "source": [
    "df_state = df_state.select(\"state_code\", \"userId\", \"churn\").dropDuplicates().groupby(\"state_code\", \"churn\").count()\n",
    "plt.figure(figsize=[16,10])\n",
    "sns.barplot(data = df_state.toPandas(), x = 'count', y = 'state_code', hue = 'churn')\n",
    "plt.title('Number of user in states between two groups');"
   ]
  },
  {
   "cell_type": "markdown",
   "metadata": {
    "id": "tT-WgOORD2rS"
   },
   "source": [
    "CA state experienced the most users. In the states of MI, KY, and OH, more users left than stayed. When it comes to modeling, it could be challenging to develop a helpful feature for this. Moving on to another column: `operating systems` and `browsers`."
   ]
  },
  {
   "cell_type": "markdown",
   "metadata": {
    "id": "PfnxgddLD2rT"
   },
   "source": [
    "**Browser and Operating System - Compare between 2 groups**"
   ]
  },
  {
   "cell_type": "code",
   "execution_count": 41,
   "metadata": {
    "colab": {
     "base_uri": "https://localhost:8080/"
    },
    "id": "pfSQ4iZ0D2rT",
    "outputId": "f6666f7b-453c-4841-dca5-58470b8bd4dd"
   },
   "outputs": [
    {
     "name": "stdout",
     "output_type": "stream",
     "text": [
      "+------+--------------------+-----+\n",
      "|userId|           userAgent|churn|\n",
      "+------+--------------------+-----+\n",
      "|   100|Mozilla/5.0 (Wind...|    0|\n",
      "|100004|Mozilla/5.0 (comp...|    0|\n",
      "|100005|\"Mozilla/5.0 (Mac...|    1|\n",
      "|100006|\"Mozilla/5.0 (Win...|    1|\n",
      "|100007|\"Mozilla/5.0 (Win...|    1|\n",
      "|100008|Mozilla/5.0 (Maci...|    0|\n",
      "|100009|\"Mozilla/5.0 (Win...|    1|\n",
      "|100010|\"Mozilla/5.0 (iPh...|    0|\n",
      "|100014|\"Mozilla/5.0 (Win...|    1|\n",
      "|100015|\"Mozilla/5.0 (Mac...|    1|\n",
      "|100021|\"Mozilla/5.0 (Mac...|    1|\n",
      "|100022|Mozilla/5.0 (Maci...|    1|\n",
      "|100025|\"Mozilla/5.0 (Mac...|    1|\n",
      "|   101|Mozilla/5.0 (Wind...|    1|\n",
      "|   104|\"Mozilla/5.0 (Win...|    0|\n",
      "|   107|Mozilla/5.0 (Wind...|    0|\n",
      "|    11|Mozilla/5.0 (Wind...|    0|\n",
      "|   110|\"Mozilla/5.0 (Mac...|    0|\n",
      "|   112|Mozilla/5.0 (Wind...|    0|\n",
      "|   113|\"Mozilla/5.0 (Mac...|    0|\n",
      "+------+--------------------+-----+\n",
      "only showing top 20 rows\n",
      "\n"
     ]
    }
   ],
   "source": [
    "df_os = df.select(\"userId\", \"userAgent\", \"churn\").dropDuplicates(['userId'])\n",
    "df_os.show()"
   ]
  },
  {
   "cell_type": "code",
   "execution_count": 42,
   "metadata": {
    "id": "XCvivD4AD2rT"
   },
   "outputs": [],
   "source": [
    "# Create a new column names 'os' \n",
    "os_list = [\"Windows\", \"Mac\", \"Linux\", \"iPhone\", \"iPad\"]\n",
    "df_os = df_os.toPandas()\n",
    "df_os['os'] = df_os.userAgent.str.extract('(?i)({0})'.format('|'.join(os_list)))"
   ]
  },
  {
   "cell_type": "code",
   "execution_count": 43,
   "metadata": {
    "colab": {
     "base_uri": "https://localhost:8080/",
     "height": 206
    },
    "id": "U7QM_mzcD2rU",
    "outputId": "551a2107-b622-4395-ad36-275e0a523f02"
   },
   "outputs": [
    {
     "data": {
      "text/html": [
       "\n",
       "  <div id=\"df-62d116b8-f684-4642-9e31-5f1dcbb90ca6\">\n",
       "    <div class=\"colab-df-container\">\n",
       "      <div>\n",
       "<style scoped>\n",
       "    .dataframe tbody tr th:only-of-type {\n",
       "        vertical-align: middle;\n",
       "    }\n",
       "\n",
       "    .dataframe tbody tr th {\n",
       "        vertical-align: top;\n",
       "    }\n",
       "\n",
       "    .dataframe thead th {\n",
       "        text-align: right;\n",
       "    }\n",
       "</style>\n",
       "<table border=\"1\" class=\"dataframe\">\n",
       "  <thead>\n",
       "    <tr style=\"text-align: right;\">\n",
       "      <th></th>\n",
       "      <th>userId</th>\n",
       "      <th>userAgent</th>\n",
       "      <th>churn</th>\n",
       "      <th>os</th>\n",
       "    </tr>\n",
       "  </thead>\n",
       "  <tbody>\n",
       "    <tr>\n",
       "      <th>0</th>\n",
       "      <td>100</td>\n",
       "      <td>Mozilla/5.0 (Windows NT 6.1; WOW64; rv:30.0) G...</td>\n",
       "      <td>0</td>\n",
       "      <td>Windows</td>\n",
       "    </tr>\n",
       "    <tr>\n",
       "      <th>1</th>\n",
       "      <td>100004</td>\n",
       "      <td>Mozilla/5.0 (compatible; MSIE 9.0; Windows NT ...</td>\n",
       "      <td>0</td>\n",
       "      <td>Windows</td>\n",
       "    </tr>\n",
       "    <tr>\n",
       "      <th>2</th>\n",
       "      <td>100005</td>\n",
       "      <td>\"Mozilla/5.0 (Macintosh; Intel Mac OS X 10_9_4...</td>\n",
       "      <td>1</td>\n",
       "      <td>Mac</td>\n",
       "    </tr>\n",
       "    <tr>\n",
       "      <th>3</th>\n",
       "      <td>100006</td>\n",
       "      <td>\"Mozilla/5.0 (Windows NT 6.3; WOW64) AppleWebK...</td>\n",
       "      <td>1</td>\n",
       "      <td>Windows</td>\n",
       "    </tr>\n",
       "    <tr>\n",
       "      <th>4</th>\n",
       "      <td>100007</td>\n",
       "      <td>\"Mozilla/5.0 (Windows NT 6.3; WOW64) AppleWebK...</td>\n",
       "      <td>1</td>\n",
       "      <td>Windows</td>\n",
       "    </tr>\n",
       "  </tbody>\n",
       "</table>\n",
       "</div>\n",
       "      <button class=\"colab-df-convert\" onclick=\"convertToInteractive('df-62d116b8-f684-4642-9e31-5f1dcbb90ca6')\"\n",
       "              title=\"Convert this dataframe to an interactive table.\"\n",
       "              style=\"display:none;\">\n",
       "        \n",
       "  <svg xmlns=\"http://www.w3.org/2000/svg\" height=\"24px\"viewBox=\"0 0 24 24\"\n",
       "       width=\"24px\">\n",
       "    <path d=\"M0 0h24v24H0V0z\" fill=\"none\"/>\n",
       "    <path d=\"M18.56 5.44l.94 2.06.94-2.06 2.06-.94-2.06-.94-.94-2.06-.94 2.06-2.06.94zm-11 1L8.5 8.5l.94-2.06 2.06-.94-2.06-.94L8.5 2.5l-.94 2.06-2.06.94zm10 10l.94 2.06.94-2.06 2.06-.94-2.06-.94-.94-2.06-.94 2.06-2.06.94z\"/><path d=\"M17.41 7.96l-1.37-1.37c-.4-.4-.92-.59-1.43-.59-.52 0-1.04.2-1.43.59L10.3 9.45l-7.72 7.72c-.78.78-.78 2.05 0 2.83L4 21.41c.39.39.9.59 1.41.59.51 0 1.02-.2 1.41-.59l7.78-7.78 2.81-2.81c.8-.78.8-2.07 0-2.86zM5.41 20L4 18.59l7.72-7.72 1.47 1.35L5.41 20z\"/>\n",
       "  </svg>\n",
       "      </button>\n",
       "      \n",
       "  <style>\n",
       "    .colab-df-container {\n",
       "      display:flex;\n",
       "      flex-wrap:wrap;\n",
       "      gap: 12px;\n",
       "    }\n",
       "\n",
       "    .colab-df-convert {\n",
       "      background-color: #E8F0FE;\n",
       "      border: none;\n",
       "      border-radius: 50%;\n",
       "      cursor: pointer;\n",
       "      display: none;\n",
       "      fill: #1967D2;\n",
       "      height: 32px;\n",
       "      padding: 0 0 0 0;\n",
       "      width: 32px;\n",
       "    }\n",
       "\n",
       "    .colab-df-convert:hover {\n",
       "      background-color: #E2EBFA;\n",
       "      box-shadow: 0px 1px 2px rgba(60, 64, 67, 0.3), 0px 1px 3px 1px rgba(60, 64, 67, 0.15);\n",
       "      fill: #174EA6;\n",
       "    }\n",
       "\n",
       "    [theme=dark] .colab-df-convert {\n",
       "      background-color: #3B4455;\n",
       "      fill: #D2E3FC;\n",
       "    }\n",
       "\n",
       "    [theme=dark] .colab-df-convert:hover {\n",
       "      background-color: #434B5C;\n",
       "      box-shadow: 0px 1px 3px 1px rgba(0, 0, 0, 0.15);\n",
       "      filter: drop-shadow(0px 1px 2px rgba(0, 0, 0, 0.3));\n",
       "      fill: #FFFFFF;\n",
       "    }\n",
       "  </style>\n",
       "\n",
       "      <script>\n",
       "        const buttonEl =\n",
       "          document.querySelector('#df-62d116b8-f684-4642-9e31-5f1dcbb90ca6 button.colab-df-convert');\n",
       "        buttonEl.style.display =\n",
       "          google.colab.kernel.accessAllowed ? 'block' : 'none';\n",
       "\n",
       "        async function convertToInteractive(key) {\n",
       "          const element = document.querySelector('#df-62d116b8-f684-4642-9e31-5f1dcbb90ca6');\n",
       "          const dataTable =\n",
       "            await google.colab.kernel.invokeFunction('convertToInteractive',\n",
       "                                                     [key], {});\n",
       "          if (!dataTable) return;\n",
       "\n",
       "          const docLinkHtml = 'Like what you see? Visit the ' +\n",
       "            '<a target=\"_blank\" href=https://colab.research.google.com/notebooks/data_table.ipynb>data table notebook</a>'\n",
       "            + ' to learn more about interactive tables.';\n",
       "          element.innerHTML = '';\n",
       "          dataTable['output_type'] = 'display_data';\n",
       "          await google.colab.output.renderOutput(dataTable, element);\n",
       "          const docLink = document.createElement('div');\n",
       "          docLink.innerHTML = docLinkHtml;\n",
       "          element.appendChild(docLink);\n",
       "        }\n",
       "      </script>\n",
       "    </div>\n",
       "  </div>\n",
       "  "
      ],
      "text/plain": [
       "   userId                                          userAgent  churn       os\n",
       "0     100  Mozilla/5.0 (Windows NT 6.1; WOW64; rv:30.0) G...      0  Windows\n",
       "1  100004  Mozilla/5.0 (compatible; MSIE 9.0; Windows NT ...      0  Windows\n",
       "2  100005  \"Mozilla/5.0 (Macintosh; Intel Mac OS X 10_9_4...      1      Mac\n",
       "3  100006  \"Mozilla/5.0 (Windows NT 6.3; WOW64) AppleWebK...      1  Windows\n",
       "4  100007  \"Mozilla/5.0 (Windows NT 6.3; WOW64) AppleWebK...      1  Windows"
      ]
     },
     "execution_count": 43,
     "metadata": {},
     "output_type": "execute_result"
    }
   ],
   "source": [
    "df_os.head()"
   ]
  },
  {
   "cell_type": "code",
   "execution_count": 44,
   "metadata": {
    "colab": {
     "base_uri": "https://localhost:8080/",
     "height": 513
    },
    "id": "L-6C-EySD2rU",
    "outputId": "62f16f9f-ce70-4f35-abfb-2413deb84cc5"
   },
   "outputs": [
    {
     "data": {
      "image/png": "[encoded data removed]",
      "text/plain": [
       "<Figure size 720x576 with 1 Axes>"
      ]
     },
     "metadata": {
      "needs_background": "light"
     },
     "output_type": "display_data"
    }
   ],
   "source": [
    "plt.figure(figsize=[10,8])\n",
    "sns.countplot(data = df_os, x = 'os', hue ='churn')\n",
    "plt.title('Number of Users by Operating System compare between two groups')\n",
    "plt.legend(loc = 1, ncol = 2, framealpha =1, title = 'level');"
   ]
  },
  {
   "cell_type": "markdown",
   "metadata": {
    "id": "rPtmuW8BD2rU"
   },
   "source": [
    "We can observe that Windows and Mac are the two Operating System that have the most number of users."
   ]
  },
  {
   "cell_type": "markdown",
   "metadata": {
    "id": "wdrITrLUD2rV"
   },
   "source": [
    "I will analyze with the same process on browser information"
   ]
  },
  {
   "cell_type": "code",
   "execution_count": 45,
   "metadata": {
    "id": "gVeTZ0ooD2rV"
   },
   "outputs": [],
   "source": [
    "browser_list = [\"Chrome\", \"Firefox\", \"Safari\", \"Trident\"]\n",
    "df_os['browser'] = df_os.userAgent.str.extract('(?i)({0})'.format('|'.join(browser_list)))"
   ]
  },
  {
   "cell_type": "code",
   "execution_count": 46,
   "metadata": {
    "colab": {
     "base_uri": "https://localhost:8080/",
     "height": 567
    },
    "id": "DjykTyCED2rV",
    "outputId": "0f4b5894-c8dd-4a2f-fb6e-e74ea134ed7c"
   },
   "outputs": [
    {
     "data": {
      "image/png": "[encoded data removed]",
      "text/plain": [
       "<Figure size 1152x648 with 1 Axes>"
      ]
     },
     "metadata": {
      "needs_background": "light"
     },
     "output_type": "display_data"
    }
   ],
   "source": [
    "plt.figure(figsize=[16,9])\n",
    "sns.countplot(data = df_os, x = 'browser', hue ='churn')\n",
    "plt.title('Number of users by browsers compare between two groups')\n",
    "plt.legend(loc = 1, ncol = 2, framealpha =1, title = 'level');"
   ]
  },
  {
   "cell_type": "markdown",
   "metadata": {
    "id": "D6FPK0zqD2rV"
   },
   "source": [
    "The most used browser was Chrome. Users using Firefox had the highest churned rate. The user churned rate was lowest for Trident. There isn't a glaring problem with browsers that is driving customers away. So, this won't be incorporated into our model."
   ]
  },
  {
   "cell_type": "markdown",
   "metadata": {
    "id": "fJQlErBND2rW"
   },
   "source": [
    "# Feature Engineering\n",
    "The features I will build out are:\n",
    "\n",
    "- gender\n",
    "\n",
    "- level\n",
    "\n",
    "- number of songs per session\n",
    "\n",
    "- number of rollads actions\n",
    "\n",
    "- number of thumb down actions\n",
    "\n",
    "- number of thumbs up actions\n",
    "\n",
    "- number of friends added\n",
    "\n",
    "- number of songs added to playlist\n",
    "\n",
    "- account age\n",
    "\n",
    "I'll combine these together and create a churn label as target. This will produce a dataFrame with each row containing details about a unique user. This dataframe may be vectorized, standardized, and fed into our various machine learning algorithms once the `userId` has been removed.\n",
    "\n",
    "First I will convert categorical variables to numerical to prepare for our model."
   ]
  },
  {
   "cell_type": "markdown",
   "metadata": {
    "id": "tWF9NQL7D2rX"
   },
   "source": [
    "**gender**"
   ]
  },
  {
   "cell_type": "code",
   "execution_count": 47,
   "metadata": {
    "colab": {
     "base_uri": "https://localhost:8080/"
    },
    "id": "eBMBgpEhD2rX",
    "outputId": "733d0793-b67d-4ba0-8119-832ac3bcccb4"
   },
   "outputs": [
    {
     "name": "stdout",
     "output_type": "stream",
     "text": [
      "+------+------+\n",
      "|userId|gender|\n",
      "+------+------+\n",
      "|    44|     1|\n",
      "|    46|     1|\n",
      "|    41|     1|\n",
      "|    72|     1|\n",
      "|    39|     1|\n",
      "|    40|     1|\n",
      "|    94|     1|\n",
      "|    35|     1|\n",
      "|    75|     1|\n",
      "|   116|     1|\n",
      "+------+------+\n",
      "only showing top 10 rows\n",
      "\n"
     ]
    }
   ],
   "source": [
    "gender = df.select(['userId', 'gender']).dropDuplicates()\n",
    "gender = gender.withColumn('gender', when(col('gender') == 'F', 1).otherwise(0))\n",
    "gender.show(10)"
   ]
  },
  {
   "cell_type": "markdown",
   "metadata": {
    "id": "f7K8CrKaD2rX"
   },
   "source": [
    "**level**"
   ]
  },
  {
   "cell_type": "code",
   "execution_count": 48,
   "metadata": {
    "colab": {
     "base_uri": "https://localhost:8080/"
    },
    "id": "oh70gC3nD2rX",
    "outputId": "bca45d3b-64ed-44ce-e0b2-a57d957a4fca"
   },
   "outputs": [
    {
     "name": "stdout",
     "output_type": "stream",
     "text": [
      "+------+-----+-------------+----+\n",
      "|userId|level|           ts|Rank|\n",
      "+------+-----+-------------+----+\n",
      "|    10| paid|1542631788000|   1|\n",
      "|    10| paid|1542631753000|   2|\n",
      "|    10| paid|1542631690000|   3|\n",
      "|    10| paid|1542631518000|   4|\n",
      "|    10| paid|1542631517000|   5|\n",
      "|    10| paid|1542631090000|   6|\n",
      "|    10| paid|1542630866000|   7|\n",
      "|    10| paid|1542630637000|   8|\n",
      "|    10| paid|1542630407000|   9|\n",
      "|    10| paid|1542630394000|  10|\n",
      "+------+-----+-------------+----+\n",
      "only showing top 10 rows\n",
      "\n"
     ]
    }
   ],
   "source": [
    "level = df.select(['userId', 'level', 'ts']).dropDuplicates().sort('userId')\n",
    "w = Window.partitionBy(\"userId\").orderBy(desc(\"ts\"))\n",
    "level = level.withColumn(\"Rank\", dense_rank().over(w))\n",
    "level.show(10)"
   ]
  },
  {
   "cell_type": "code",
   "execution_count": 49,
   "metadata": {
    "colab": {
     "base_uri": "https://localhost:8080/"
    },
    "id": "6EN2ejUED2rZ",
    "outputId": "5dbb2111-a99e-4e84-b4a8-7043dd64ef67"
   },
   "outputs": [
    {
     "name": "stdout",
     "output_type": "stream",
     "text": [
      "+------+-----+\n",
      "|userId|level|\n",
      "+------+-----+\n",
      "|    10|    1|\n",
      "|   100|    1|\n",
      "|100001|    0|\n",
      "|100002|    1|\n",
      "|100003|    0|\n",
      "|100004|    1|\n",
      "|100005|    0|\n",
      "|100006|    0|\n",
      "|100007|    1|\n",
      "|100008|    0|\n",
      "|100009|    0|\n",
      "|100010|    0|\n",
      "|100011|    0|\n",
      "|100012|    0|\n",
      "|100013|    1|\n",
      "|100014|    1|\n",
      "|100015|    1|\n",
      "|100016|    0|\n",
      "|100017|    0|\n",
      "|100018|    0|\n",
      "+------+-----+\n",
      "only showing top 20 rows\n",
      "\n"
     ]
    }
   ],
   "source": [
    "level = level.filter(level.Rank == 1).drop(level.Rank)\n",
    "level = level.drop('ts')\n",
    "level = level.withColumn('level', when(col('level') == 'paid', 1).otherwise(0))\n",
    "level.show(20)"
   ]
  },
  {
   "cell_type": "markdown",
   "metadata": {
    "id": "YjqCqjo9D2rZ"
   },
   "source": [
    "**average number of songs per session**"
   ]
  },
  {
   "cell_type": "code",
   "execution_count": 50,
   "metadata": {
    "colab": {
     "base_uri": "https://localhost:8080/"
    },
    "id": "yJLfibSlD2ra",
    "outputId": "7d90c82e-dd95-4d12-b6dd-2de6af1eab41"
   },
   "outputs": [
    {
     "name": "stdout",
     "output_type": "stream",
     "text": [
      "+------+------------------+\n",
      "|userId|          avg_song|\n",
      "+------+------------------+\n",
      "|100010|39.285714285714285|\n",
      "|200002|              64.5|\n",
      "+------+------------------+\n",
      "only showing top 2 rows\n",
      "\n"
     ]
    }
   ],
   "source": [
    "num_song_per_sess = df.filter(df.page == \"NextSong\").groupBy('userId','sessionId').count()\n",
    "num_song_per_sess = num_song_per_sess.groupby('userId').agg({\"count\":\"avg\"})\n",
    "num_song_per_sess = num_song_per_sess.withColumnRenamed(\"avg(count)\", \"avg_song\")\n",
    "num_song_per_sess.show(2)"
   ]
  },
  {
   "cell_type": "markdown",
   "metadata": {
    "id": "z5ZOw_tbD2ra"
   },
   "source": [
    "**number of 'rollads' actions**"
   ]
  },
  {
   "cell_type": "code",
   "execution_count": 51,
   "metadata": {
    "colab": {
     "base_uri": "https://localhost:8080/"
    },
    "id": "T5Ju4bV7D2ra",
    "outputId": "5d62f144-2fa3-42a6-d379-caa45c9ce63c"
   },
   "outputs": [
    {
     "name": "stdout",
     "output_type": "stream",
     "text": [
      "+------+-------+\n",
      "|userId|roll_ad|\n",
      "+------+-------+\n",
      "|   125|      1|\n",
      "|    51|      0|\n",
      "+------+-------+\n",
      "only showing top 2 rows\n",
      "\n"
     ]
    }
   ],
   "source": [
    "rollad = df.select([\"userId\", \"page\"])\n",
    "rollad_flag = udf(lambda x: 1 if x == \"Roll Advert\" else 0, IntegerType())\n",
    "rollad = rollad.withColumn(\"rollad\", rollad_flag(\"page\"))\n",
    "rollad = rollad.groupby('userId').sum(\"rollad\")\n",
    "rollad = rollad.withColumnRenamed(\"sum(rollad)\", \"roll_ad\")\n",
    "rollad.show(2)"
   ]
  },
  {
   "cell_type": "markdown",
   "metadata": {
    "id": "J2rOv5tfD2ra"
   },
   "source": [
    "**number of 'thumb down' actions**"
   ]
  },
  {
   "cell_type": "code",
   "execution_count": 52,
   "metadata": {
    "colab": {
     "base_uri": "https://localhost:8080/"
    },
    "id": "QHjTtmPbD2rb",
    "outputId": "5f81d269-9d4f-457b-da18-fe509ba58267"
   },
   "outputs": [
    {
     "name": "stdout",
     "output_type": "stream",
     "text": [
      "+------+-----------+\n",
      "|userId|thumbs_down|\n",
      "+------+-----------+\n",
      "|   125|          0|\n",
      "|    51|         21|\n",
      "|   124|         41|\n",
      "|     7|          1|\n",
      "|    54|         29|\n",
      "+------+-----------+\n",
      "only showing top 5 rows\n",
      "\n"
     ]
    }
   ],
   "source": [
    "thumbdown = df.select([\"userId\", \"page\"])\n",
    "thumbdown_flag = udf(lambda x: 1 if x == \"Thumbs Down\" else 0, IntegerType())\n",
    "thumbdown = thumbdown.withColumn(\"Thumbs Down\", thumbdown_flag(\"page\"))\n",
    "thumbdown = thumbdown.groupby('userId').sum(\"Thumbs Down\")\n",
    "thumbdown = thumbdown.withColumnRenamed(\"sum(Thumbs Down)\", \"thumbs_down\")\n",
    "thumbdown.show(5)"
   ]
  },
  {
   "cell_type": "markdown",
   "metadata": {
    "id": "Ec3U6RocD2rb"
   },
   "source": [
    "**number of 'thumb up' actions**"
   ]
  },
  {
   "cell_type": "code",
   "execution_count": 53,
   "metadata": {
    "colab": {
     "base_uri": "https://localhost:8080/"
    },
    "id": "u5TB_qQiD2rb",
    "outputId": "163c5eeb-9159-4a01-9901-57addd5bc7d6"
   },
   "outputs": [
    {
     "name": "stdout",
     "output_type": "stream",
     "text": [
      "+------+---------+\n",
      "|userId|thumbs_up|\n",
      "+------+---------+\n",
      "|   125|        0|\n",
      "|    51|      100|\n",
      "|   124|      171|\n",
      "|     7|        7|\n",
      "|    54|      163|\n",
      "+------+---------+\n",
      "only showing top 5 rows\n",
      "\n"
     ]
    }
   ],
   "source": [
    "thumbup = df.select([\"userId\", \"page\"])\n",
    "thumbup_flag = udf(lambda x: 1 if x == \"Thumbs Up\" else 0, IntegerType())\n",
    "thumbup = thumbup.withColumn(\"Thumbs Up\", thumbup_flag(\"page\"))\n",
    "thumbup = thumbup.groupby('userId').sum(\"Thumbs Up\")\n",
    "thumbup = thumbup.withColumnRenamed(\"sum(Thumbs Up)\", \"thumbs_up\")\n",
    "thumbup.show(5)"
   ]
  },
  {
   "cell_type": "markdown",
   "metadata": {
    "id": "uZy_4HnCD2rb"
   },
   "source": [
    "**number of friends added**"
   ]
  },
  {
   "cell_type": "code",
   "execution_count": 54,
   "metadata": {
    "colab": {
     "base_uri": "https://localhost:8080/"
    },
    "id": "17BPcv9MD2rb",
    "outputId": "05666e59-ff58-442f-d015-ea7b41b0da1e"
   },
   "outputs": [
    {
     "name": "stdout",
     "output_type": "stream",
     "text": [
      "+------+----------+\n",
      "|userId|add_friend|\n",
      "+------+----------+\n",
      "|   125|         0|\n",
      "|    51|        28|\n",
      "|   124|        74|\n",
      "|     7|         1|\n",
      "|    54|        33|\n",
      "+------+----------+\n",
      "only showing top 5 rows\n",
      "\n"
     ]
    }
   ],
   "source": [
    "friend = df.select([\"userId\", \"page\"])\n",
    "friend_flag = udf(lambda x: 1 if x == \"Add Friend\" else 0, IntegerType())\n",
    "friend = friend.withColumn(\"add_friend\", friend_flag(\"page\"))\n",
    "friend = friend.groupby('userId').sum(\"add_friend\")\n",
    "friend = friend.withColumnRenamed(\"sum(add_friend)\", \"add_friend\")\n",
    "friend.show(5)"
   ]
  },
  {
   "cell_type": "markdown",
   "metadata": {
    "id": "lSHslDHmD2rc"
   },
   "source": [
    "**number of songs added to playlist**"
   ]
  },
  {
   "cell_type": "code",
   "execution_count": 55,
   "metadata": {
    "colab": {
     "base_uri": "https://localhost:8080/"
    },
    "id": "2AYebt9-D2rc",
    "outputId": "3cc9ff49-bed9-45db-abce-dbb55a0ff6e5"
   },
   "outputs": [
    {
     "name": "stdout",
     "output_type": "stream",
     "text": [
      "+------+--------+\n",
      "|userId|playlist|\n",
      "+------+--------+\n",
      "|   125|       0|\n",
      "|    51|      52|\n",
      "+------+--------+\n",
      "only showing top 2 rows\n",
      "\n"
     ]
    }
   ],
   "source": [
    "playlist = df.select([\"userId\", \"page\"])\n",
    "song_add_flag = udf(lambda x: 1 if x == \"Add to Playlist\" else 0, IntegerType())\n",
    "playlist = playlist.withColumn(\"Playlist\", song_add_flag(\"page\"))\n",
    "playlist = playlist.groupby('userId').sum(\"Playlist\")\n",
    "playlist = playlist.withColumnRenamed(\"sum(Playlist)\", \"playlist\")\n",
    "playlist.show(2)"
   ]
  },
  {
   "cell_type": "markdown",
   "metadata": {
    "id": "GW4zkIzdD2rc"
   },
   "source": [
    "**account age**"
   ]
  },
  {
   "cell_type": "code",
   "execution_count": 56,
   "metadata": {
    "colab": {
     "base_uri": "https://localhost:8080/"
    },
    "id": "LLHWdEibD2rc",
    "outputId": "ae6329bb-e0c1-474d-b094-967fbc41781d"
   },
   "outputs": [
    {
     "name": "stdout",
     "output_type": "stream",
     "text": [
      "+------+-------------+-------------+-----+-----------+------------------+\n",
      "|userId| registration|           ts|churn| delta_days|               age|\n",
      "+------+-------------+-------------+-----+-----------+------------------+\n",
      "|    10|1538159495000|1542631788000|    0| 4472293000| 51.76265046296297|\n",
      "|   100|1537982255000|1543587349000|    0| 5605094000| 64.87377314814815|\n",
      "|100001|1534627466000|1538498205000|    1| 3870739000| 44.80021990740741|\n",
      "|100002|1529934689000|1543799476000|    0|13864787000|160.47207175925925|\n",
      "|100003|1537309344000|1539274781000|    1| 1965437000|22.748113425925926|\n",
      "|100004|1528560242000|1543459065000|    0|14898823000|172.44008101851853|\n",
      "|100005|1532610926000|1539971825000|    1| 7360899000| 85.19559027777778|\n",
      "|100006|1537964483000|1538753070000|    1|  788587000| 9.127164351851851|\n",
      "|100007|1533522419000|1543491909000|    1| 9969490000|115.38761574074074|\n",
      "|100008|1537440271000|1543335219000|    0| 5894948000| 68.22856481481482|\n",
      "|100009|1537376437000|1540611104000|    1| 3234667000| 37.43827546296296|\n",
      "|100010|1538016340000|1542823952000|    0| 4807612000|  55.6436574074074|\n",
      "|100011|1537970819000|1538417085000|    1|  446266000| 5.165115740740741|\n",
      "|100012|1537381154000|1541100900000|    1| 3719746000| 43.05261574074074|\n",
      "|100013|1537367773000|1541184816000|    1| 3817043000| 44.17873842592593|\n",
      "|100014|1535389443000|1542740649000|    1| 7351206000| 85.08340277777778|\n",
      "|100015|1537208989000|1543073753000|    1| 5864764000| 67.87921296296297|\n",
      "|100016|1536854322000|1543335647000|    0| 6481325000| 75.01533564814815|\n",
      "|100017|1533247234000|1540062847000|    1| 6815613000| 78.88440972222223|\n",
      "|100018|1533812833000|1543378360000|    0| 9565527000|110.71211805555555|\n",
      "+------+-------------+-------------+-----+-----------+------------------+\n",
      "only showing top 20 rows\n",
      "\n"
     ]
    }
   ],
   "source": [
    "df_days = df.select(['userId', 'registration', 'ts', 'churn']).dropDuplicates().sort('userId')\n",
    "w = Window.partitionBy(\"userId\").orderBy(desc(\"ts\"))\n",
    "df_days = df_days.withColumn(\"Rank\", dense_rank().over(w))\n",
    "df_days = df_days.filter(df_days.Rank == 1).drop(df_days.Rank)\n",
    "df_days = df_days.withColumn(\"delta_days\", (df_days['ts']) - (df_days['registration']))\n",
    "df_days = df_days.withColumn('age',(df_days['delta_days']/1000/3600/24))\n",
    "df_days.show()"
   ]
  },
  {
   "cell_type": "code",
   "execution_count": 57,
   "metadata": {
    "colab": {
     "base_uri": "https://localhost:8080/"
    },
    "id": "htcwJOsLD2rd",
    "outputId": "7b0b425f-4942-4cd4-d983-0ed7ad477ab9"
   },
   "outputs": [
    {
     "name": "stdout",
     "output_type": "stream",
     "text": [
      "+------+------------------+\n",
      "|userId|               age|\n",
      "+------+------------------+\n",
      "|    10| 51.76265046296297|\n",
      "|   100| 64.87377314814815|\n",
      "|100001| 44.80021990740741|\n",
      "|100002|160.47207175925925|\n",
      "|100003|22.748113425925926|\n",
      "|100004|172.44008101851853|\n",
      "|100005| 85.19559027777778|\n",
      "|100006| 9.127164351851851|\n",
      "|100007|115.38761574074074|\n",
      "|100008| 68.22856481481482|\n",
      "|100009| 37.43827546296296|\n",
      "|100010|  55.6436574074074|\n",
      "|100011| 5.165115740740741|\n",
      "|100012| 43.05261574074074|\n",
      "|100013| 44.17873842592593|\n",
      "|100014| 85.08340277777778|\n",
      "|100015| 67.87921296296297|\n",
      "|100016| 75.01533564814815|\n",
      "|100017| 78.88440972222223|\n",
      "|100018|110.71211805555555|\n",
      "+------+------------------+\n",
      "only showing top 20 rows\n",
      "\n"
     ]
    }
   ],
   "source": [
    "account_age = df_days.drop('registration', 'ts', 'churn', 'delta_days')\n",
    "account_age.show()"
   ]
  },
  {
   "cell_type": "markdown",
   "metadata": {
    "id": "Yu6yvqTqD2rd"
   },
   "source": [
    "**number of artists listened**"
   ]
  },
  {
   "cell_type": "code",
   "execution_count": 58,
   "metadata": {
    "colab": {
     "base_uri": "https://localhost:8080/"
    },
    "id": "U346thfeD2rd",
    "outputId": "aa223f64-83ed-4802-ec68-fd25378fe3e1"
   },
   "outputs": [
    {
     "name": "stdout",
     "output_type": "stream",
     "text": [
      "+------+-----------+\n",
      "|userId|num_artists|\n",
      "+------+-----------+\n",
      "|100010|        253|\n",
      "|200002|        340|\n",
      "+------+-----------+\n",
      "only showing top 2 rows\n",
      "\n"
     ]
    }
   ],
   "source": [
    "artists = df.select(\"userId\", \"artist\").dropDuplicates().groupby(\"userId\").count()\n",
    "artists = artists.withColumnRenamed(\"count\", \"num_artists\")\n",
    "artists.show(2)\n"
   ]
  },
  {
   "cell_type": "markdown",
   "metadata": {
    "id": "_a77uBsED2re"
   },
   "source": [
    "**Label**"
   ]
  },
  {
   "cell_type": "markdown",
   "metadata": {
    "id": "5OLxjUfmD2re"
   },
   "source": [
    "Now I create the label column indicating if the user churned (1) or not (0).\n"
   ]
  },
  {
   "cell_type": "code",
   "execution_count": 59,
   "metadata": {
    "colab": {
     "base_uri": "https://localhost:8080/"
    },
    "id": "7wC1RoSeD2re",
    "outputId": "a3c91bd2-29f5-4303-c88c-ca9842aa3045"
   },
   "outputs": [
    {
     "name": "stdout",
     "output_type": "stream",
     "text": [
      "+------+-----+\n",
      "|userId|label|\n",
      "+------+-----+\n",
      "|    10|    0|\n",
      "|   100|    0|\n",
      "|100001|    1|\n",
      "|100002|    0|\n",
      "|100003|    1|\n",
      "|100004|    0|\n",
      "|100005|    1|\n",
      "|100006|    1|\n",
      "|100007|    1|\n",
      "|100008|    0|\n",
      "|100009|    1|\n",
      "|100010|    0|\n",
      "|100011|    1|\n",
      "|100012|    1|\n",
      "|100013|    1|\n",
      "|100014|    1|\n",
      "|100015|    1|\n",
      "|100016|    0|\n",
      "|100017|    1|\n",
      "|100018|    0|\n",
      "+------+-----+\n",
      "only showing top 20 rows\n",
      "\n"
     ]
    }
   ],
   "source": [
    "label = df.select(\"userId\", \"churn\").dropDuplicates().groupby(\"userId\", \"churn\").count()\n",
    "label = label.drop('count')\n",
    "label = label.withColumnRenamed(\"churn\", \"label\")\n",
    "label.show()"
   ]
  },
  {
   "cell_type": "markdown",
   "metadata": {
    "id": "q5p3_49JD2re"
   },
   "source": [
    "**Join features I created to get the final data for our model**"
   ]
  },
  {
   "cell_type": "code",
   "execution_count": 60,
   "metadata": {
    "colab": {
     "base_uri": "https://localhost:8080/"
    },
    "id": "wgzp1dkvD2rf",
    "outputId": "cbdbaefe-2874-402e-80b3-8d20249b8900"
   },
   "outputs": [
    {
     "name": "stdout",
     "output_type": "stream",
     "text": [
      "+------+------+-----+------------------+-------+-----------+---------+----------+--------+------------------+-----------+-----+\n",
      "|userId|gender|level|          avg_song|roll_ad|thumbs_down|thumbs_up|add_friend|playlist|               age|num_artists|label|\n",
      "+------+------+-----+------------------+-------+-----------+---------+----------+--------+------------------+-----------+-----+\n",
      "|    10|     0|    1|112.16666666666667|      1|          4|       37|        12|       9| 51.76265046296297|        566|    0|\n",
      "|   100|     0|    1| 78.88235294117646|     25|         27|      148|        49|      61| 64.87377314814815|       1706|    0|\n",
      "|100001|     1|    0|             33.25|     14|          2|        8|         2|       3| 44.80021990740741|        126|    1|\n",
      "|100002|     1|    1|             48.75|      3|          0|        5|         1|       5|160.47207175925925|        185|    0|\n",
      "|100003|     1|    0|              25.5|      9|          0|        3|         0|       2|22.748113425925926|         51|    1|\n",
      "|100004|     1|    1|              47.1|     86|         11|       35|        19|      23|172.44008101851853|        734|    0|\n",
      "|100005|     0|    0|              38.5|     18|          3|        7|         3|       3| 85.19559027777778|        150|    1|\n",
      "|100006|     1|    0|              26.0|      3|          2|        2|         4|       1| 9.127164351851851|         27|    1|\n",
      "|100007|     1|    1|              47.0|      5|          6|       19|        17|       9|115.38761574074074|        358|    1|\n",
      "|100008|     1|    0|128.66666666666666|     20|          6|       37|        17|      30| 68.22856481481482|        624|    0|\n",
      "|100009|     0|    0|              51.8|     42|          8|       23|         7|      12| 37.43827546296296|        443|    1|\n",
      "|100010|     1|    0|39.285714285714285|     52|          5|       17|         4|       7|  55.6436574074074|        253|    0|\n",
      "|100011|     0|    0|              11.0|      2|          1|        0|         0|       2| 5.165115740740741|         12|    1|\n",
      "|100012|     0|    0| 79.33333333333333|     38|          9|       18|         2|      12| 43.05261574074074|        398|    1|\n",
      "|100013|     1|    1|              87.0|     39|         15|       39|        28|      31| 44.17873842592593|        827|    1|\n",
      "|100014|     0|    1|42.833333333333336|      2|          3|       17|         6|       7| 85.08340277777778|        234|    1|\n",
      "|100015|     1|    1| 66.66666666666667|     69|          8|       35|        14|      22| 67.87921296296297|        628|    1|\n",
      "|100016|     0|    0|             66.25|     16|          5|       25|        13|       6| 75.01533564814815|        432|    0|\n",
      "|100017|     0|    0|              52.0|     14|          1|        2|         0|       1| 78.88440972222223|         52|    1|\n",
      "|100018|     0|    0|              50.1|     80|          9|       46|        23|      31|110.71211805555555|        781|    0|\n",
      "+------+------+-----+------------------+-------+-----------+---------+----------+--------+------------------+-----------+-----+\n",
      "only showing top 20 rows\n",
      "\n"
     ]
    }
   ],
   "source": [
    "feature_df = gender.join(level, [\"userId\"])\\\n",
    "                    .join(num_song_per_sess, [\"userId\"])\\\n",
    "                    .join(rollad, [\"userId\"])\\\n",
    "                    .join(thumbdown, [\"userId\"])\\\n",
    "                    .join(thumbup, [\"userId\"])\\\n",
    "                    .join(friend, [\"userId\"])\\\n",
    "                    .join(playlist, [\"userId\"])\\\n",
    "                    .join(account_age, [\"userId\"])\\\n",
    "                    .join(artists, ['userId'])\\\n",
    "                    .join(label, [\"userId\"])\n",
    "feature_df.show()"
   ]
  },
  {
   "cell_type": "markdown",
   "metadata": {
    "id": "6x7TCIlSD2rf"
   },
   "source": [
    "**Drop `userId` column**"
   ]
  },
  {
   "cell_type": "code",
   "execution_count": 61,
   "metadata": {
    "colab": {
     "base_uri": "https://localhost:8080/"
    },
    "id": "B2S4a3QAD2rf",
    "outputId": "0f6458b3-cf56-4e84-d32d-caa94e62e3fa"
   },
   "outputs": [
    {
     "name": "stdout",
     "output_type": "stream",
     "text": [
      "+------+-----+------------------+-------+-----------+---------+----------+--------+------------------+-----------+-----+\n",
      "|gender|level|          avg_song|roll_ad|thumbs_down|thumbs_up|add_friend|playlist|               age|num_artists|label|\n",
      "+------+-----+------------------+-------+-----------+---------+----------+--------+------------------+-----------+-----+\n",
      "|     0|    1|112.16666666666667|      1|          4|       37|        12|       9| 51.76265046296297|        566|    0|\n",
      "|     0|    1| 78.88235294117646|     25|         27|      148|        49|      61| 64.87377314814815|       1706|    0|\n",
      "|     1|    0|             33.25|     14|          2|        8|         2|       3| 44.80021990740741|        126|    1|\n",
      "|     1|    1|             48.75|      3|          0|        5|         1|       5|160.47207175925925|        185|    0|\n",
      "|     1|    0|              25.5|      9|          0|        3|         0|       2|22.748113425925926|         51|    1|\n",
      "|     1|    1|              47.1|     86|         11|       35|        19|      23|172.44008101851853|        734|    0|\n",
      "|     0|    0|              38.5|     18|          3|        7|         3|       3| 85.19559027777778|        150|    1|\n",
      "|     1|    0|              26.0|      3|          2|        2|         4|       1| 9.127164351851851|         27|    1|\n",
      "|     1|    1|              47.0|      5|          6|       19|        17|       9|115.38761574074074|        358|    1|\n",
      "|     1|    0|128.66666666666666|     20|          6|       37|        17|      30| 68.22856481481482|        624|    0|\n",
      "|     0|    0|              51.8|     42|          8|       23|         7|      12| 37.43827546296296|        443|    1|\n",
      "|     1|    0|39.285714285714285|     52|          5|       17|         4|       7|  55.6436574074074|        253|    0|\n",
      "|     0|    0|              11.0|      2|          1|        0|         0|       2| 5.165115740740741|         12|    1|\n",
      "|     0|    0| 79.33333333333333|     38|          9|       18|         2|      12| 43.05261574074074|        398|    1|\n",
      "|     1|    1|              87.0|     39|         15|       39|        28|      31| 44.17873842592593|        827|    1|\n",
      "|     0|    1|42.833333333333336|      2|          3|       17|         6|       7| 85.08340277777778|        234|    1|\n",
      "|     1|    1| 66.66666666666667|     69|          8|       35|        14|      22| 67.87921296296297|        628|    1|\n",
      "|     0|    0|             66.25|     16|          5|       25|        13|       6| 75.01533564814815|        432|    0|\n",
      "|     0|    0|              52.0|     14|          1|        2|         0|       1| 78.88440972222223|         52|    1|\n",
      "|     0|    0|              50.1|     80|          9|       46|        23|      31|110.71211805555555|        781|    0|\n",
      "+------+-----+------------------+-------+-----------+---------+----------+--------+------------------+-----------+-----+\n",
      "only showing top 20 rows\n",
      "\n"
     ]
    }
   ],
   "source": [
    "feature_df = feature_df.drop('userId')\n",
    "feature_df.show()"
   ]
  },
  {
   "cell_type": "code",
   "execution_count": 62,
   "metadata": {
    "colab": {
     "base_uri": "https://localhost:8080/"
    },
    "id": "PGwNiBvJD2rg",
    "outputId": "13491e2f-2d3c-4d6c-d55c-382acfa1acf8"
   },
   "outputs": [
    {
     "name": "stdout",
     "output_type": "stream",
     "text": [
      "root\n",
      " |-- gender: integer (nullable = false)\n",
      " |-- level: integer (nullable = false)\n",
      " |-- avg_song: double (nullable = true)\n",
      " |-- roll_ad: long (nullable = true)\n",
      " |-- thumbs_down: long (nullable = true)\n",
      " |-- thumbs_up: long (nullable = true)\n",
      " |-- add_friend: long (nullable = true)\n",
      " |-- playlist: long (nullable = true)\n",
      " |-- age: double (nullable = true)\n",
      " |-- num_artists: long (nullable = false)\n",
      " |-- label: long (nullable = true)\n",
      "\n"
     ]
    }
   ],
   "source": [
    "# Schema check\n",
    "feature_df.printSchema()"
   ]
  },
  {
   "cell_type": "markdown",
   "metadata": {
    "id": "NKm8f6UxD2rg"
   },
   "source": [
    "Cast all columns to **float** data type"
   ]
  },
  {
   "cell_type": "code",
   "execution_count": 63,
   "metadata": {
    "id": "ODDzYbLeD2rg"
   },
   "outputs": [],
   "source": [
    "for feature in feature_df.columns:\n",
    "    feature_df = feature_df.withColumn(feature, feature_df[feature].cast('float'))"
   ]
  },
  {
   "cell_type": "code",
   "execution_count": 64,
   "metadata": {
    "colab": {
     "base_uri": "https://localhost:8080/"
    },
    "id": "5sdbhaKRD2rh",
    "outputId": "2cc8c1f5-cdd7-42af-864e-51c7ded69e4f"
   },
   "outputs": [
    {
     "name": "stdout",
     "output_type": "stream",
     "text": [
      "root\n",
      " |-- gender: float (nullable = false)\n",
      " |-- level: float (nullable = false)\n",
      " |-- avg_song: float (nullable = true)\n",
      " |-- roll_ad: float (nullable = true)\n",
      " |-- thumbs_down: float (nullable = true)\n",
      " |-- thumbs_up: float (nullable = true)\n",
      " |-- add_friend: float (nullable = true)\n",
      " |-- playlist: float (nullable = true)\n",
      " |-- age: float (nullable = true)\n",
      " |-- num_artists: float (nullable = false)\n",
      " |-- label: float (nullable = true)\n",
      "\n"
     ]
    }
   ],
   "source": [
    "feature_df.printSchema()"
   ]
  },
  {
   "cell_type": "markdown",
   "metadata": {
    "id": "QphVnNj3D2rh"
   },
   "source": [
    "**Vector Assembler**  \n",
    "Vector assembler's function is to convert our features into a vector. The vector may then be normalized and fed into the model of our choice."
   ]
  },
  {
   "cell_type": "code",
   "execution_count": 65,
   "metadata": {
    "colab": {
     "base_uri": "https://localhost:8080/"
    },
    "id": "16Z1IVFkD2rh",
    "outputId": "16a22170-7879-470d-ee9e-3bc5fd254a65"
   },
   "outputs": [
    {
     "name": "stdout",
     "output_type": "stream",
     "text": [
      "+------+-----+----------+-------+-----------+---------+----------+--------+---------+-----------+-----+--------------------+\n",
      "|gender|level|  avg_song|roll_ad|thumbs_down|thumbs_up|add_friend|playlist|      age|num_artists|label|        vec_features|\n",
      "+------+-----+----------+-------+-----------+---------+----------+--------+---------+-----------+-----+--------------------+\n",
      "|   0.0|  1.0|112.166664|    1.0|        4.0|     37.0|      12.0|     9.0| 51.76265|      566.0|  0.0|[0.0,1.0,112.1666...|\n",
      "|   0.0|  1.0| 78.882355|   25.0|       27.0|    148.0|      49.0|    61.0| 64.87377|     1706.0|  0.0|[0.0,1.0,78.88235...|\n",
      "|   1.0|  0.0|     33.25|   14.0|        2.0|      8.0|       2.0|     3.0| 44.80022|      126.0|  1.0|[1.0,0.0,33.25,14...|\n",
      "|   1.0|  1.0|     48.75|    3.0|        0.0|      5.0|       1.0|     5.0|160.47208|      185.0|  0.0|[1.0,1.0,48.75,3....|\n",
      "|   1.0|  0.0|      25.5|    9.0|        0.0|      3.0|       0.0|     2.0|22.748114|       51.0|  1.0|[1.0,0.0,25.5,9.0...|\n",
      "|   1.0|  1.0|      47.1|   86.0|       11.0|     35.0|      19.0|    23.0|172.44008|      734.0|  0.0|[1.0,1.0,47.09999...|\n",
      "|   0.0|  0.0|      38.5|   18.0|        3.0|      7.0|       3.0|     3.0| 85.19559|      150.0|  1.0|[0.0,0.0,38.5,18....|\n",
      "|   1.0|  0.0|      26.0|    3.0|        2.0|      2.0|       4.0|     1.0| 9.127164|       27.0|  1.0|[1.0,0.0,26.0,3.0...|\n",
      "|   1.0|  1.0|      47.0|    5.0|        6.0|     19.0|      17.0|     9.0|115.38762|      358.0|  1.0|[1.0,1.0,47.0,5.0...|\n",
      "|   1.0|  0.0| 128.66667|   20.0|        6.0|     37.0|      17.0|    30.0| 68.22856|      624.0|  0.0|[1.0,0.0,128.6666...|\n",
      "|   0.0|  0.0|      51.8|   42.0|        8.0|     23.0|       7.0|    12.0|37.438274|      443.0|  1.0|[0.0,0.0,51.79999...|\n",
      "|   1.0|  0.0| 39.285713|   52.0|        5.0|     17.0|       4.0|     7.0|55.643658|      253.0|  0.0|[1.0,0.0,39.28571...|\n",
      "|   0.0|  0.0|      11.0|    2.0|        1.0|      0.0|       0.0|     2.0| 5.165116|       12.0|  1.0|[0.0,0.0,11.0,2.0...|\n",
      "|   0.0|  0.0| 79.333336|   38.0|        9.0|     18.0|       2.0|    12.0|43.052616|      398.0|  1.0|[0.0,0.0,79.33333...|\n",
      "|   1.0|  1.0|      87.0|   39.0|       15.0|     39.0|      28.0|    31.0|44.178738|      827.0|  1.0|[1.0,1.0,87.0,39....|\n",
      "|   0.0|  1.0| 42.833332|    2.0|        3.0|     17.0|       6.0|     7.0|85.083405|      234.0|  1.0|[0.0,1.0,42.83333...|\n",
      "|   1.0|  1.0| 66.666664|   69.0|        8.0|     35.0|      14.0|    22.0| 67.87921|      628.0|  1.0|[1.0,1.0,66.66666...|\n",
      "|   0.0|  0.0|     66.25|   16.0|        5.0|     25.0|      13.0|     6.0|75.015335|      432.0|  0.0|[0.0,0.0,66.25,16...|\n",
      "|   0.0|  0.0|      52.0|   14.0|        1.0|      2.0|       0.0|     1.0| 78.88441|       52.0|  1.0|[0.0,0.0,52.0,14....|\n",
      "|   0.0|  0.0|      50.1|   80.0|        9.0|     46.0|      23.0|    31.0|110.71212|      781.0|  0.0|[0.0,0.0,50.09999...|\n",
      "+------+-----+----------+-------+-----------+---------+----------+--------+---------+-----------+-----+--------------------+\n",
      "only showing top 20 rows\n",
      "\n"
     ]
    }
   ],
   "source": [
    "assembler = VectorAssembler(inputCols = ['gender','level','avg_song','roll_ad','thumbs_down','thumbs_up','add_friend','playlist','age'], outputCol = \"vec_features\")\n",
    "feature_df = assembler.transform(feature_df)\n",
    "feature_df.show()"
   ]
  },
  {
   "cell_type": "markdown",
   "metadata": {
    "id": "F5knkF7yD2rh"
   },
   "source": [
    "**Normalization**  \n",
    "I can standardize all the values now that we have our vectors. This is necessary for our machine learning model in order to make the individual features appear like typical regularly distributed data and to prevent the results from being dominated by the features with the highest values."
   ]
  },
  {
   "cell_type": "code",
   "execution_count": 66,
   "metadata": {
    "colab": {
     "base_uri": "https://localhost:8080/"
    },
    "id": "iTNsxDngD2ri",
    "outputId": "2aaaaddc-577f-46ff-9d53-ed5525074a1d"
   },
   "outputs": [
    {
     "data": {
      "text/plain": [
       "Row(gender=0.0, level=1.0, avg_song=112.16666412353516, roll_ad=1.0, thumbs_down=4.0, thumbs_up=37.0, add_friend=12.0, playlist=9.0, age=51.76264953613281, num_artists=566.0, label=0.0, vec_features=DenseVector([0.0, 1.0, 112.1667, 1.0, 4.0, 37.0, 12.0, 9.0, 51.7626]), features=DenseVector([0.0, 2.0844, 2.6321, 0.0464, 0.3059, 0.5651, 0.583, 0.2751, 1.3744]))"
      ]
     },
     "execution_count": 66,
     "metadata": {},
     "output_type": "execute_result"
    }
   ],
   "source": [
    "scaler = StandardScaler(inputCol=\"vec_features\", outputCol=\"features\", withStd=True)\n",
    "scaler_model = scaler.fit(feature_df)\n",
    "feature_df = scaler_model.transform(feature_df)\n",
    "feature_df.head()"
   ]
  },
  {
   "cell_type": "markdown",
   "metadata": {
    "id": "beodvJnVD2ri"
   },
   "source": [
    "**Split dataset into train/test/val dataset**"
   ]
  },
  {
   "cell_type": "code",
   "execution_count": 67,
   "metadata": {
    "colab": {
     "base_uri": "https://localhost:8080/"
    },
    "id": "P579QavSD2ri",
    "outputId": "d29c30fd-27c5-4e84-dbcf-9df286eac886"
   },
   "outputs": [
    {
     "name": "stdout",
     "output_type": "stream",
     "text": [
      "+-----+-----+\n",
      "|label|count|\n",
      "+-----+-----+\n",
      "|  1.0|   52|\n",
      "|  0.0|  173|\n",
      "+-----+-----+\n",
      "\n"
     ]
    }
   ],
   "source": [
    "feature_df.groupby('label').count().show()"
   ]
  },
  {
   "cell_type": "code",
   "execution_count": 68,
   "metadata": {
    "colab": {
     "base_uri": "https://localhost:8080/"
    },
    "id": "MQIiRVhsD2ri",
    "outputId": "01881db4-04a5-4ca6-942e-532a4941351f"
   },
   "outputs": [
    {
     "name": "stdout",
     "output_type": "stream",
     "text": [
      "Training Dataset Size:133\n",
      "Test Dataset Size:42\n",
      "Validation Dataset Size:50\n"
     ]
    }
   ],
   "source": [
    "train, test, valid = feature_df.randomSplit([0.6, 0.2, 0.2], seed = 1996)\n",
    "print(\"Training Dataset Size:\" + str(train.count()))\n",
    "print(\"Test Dataset Size:\" + str(test.count()))\n",
    "print(\"Validation Dataset Size:\" + str(valid.count()))"
   ]
  },
  {
   "cell_type": "markdown",
   "metadata": {
    "id": "UdDdqLbLD2rj"
   },
   "source": [
    "# Modeling\n",
    "I have now perform feature engineering to create features_df and split the entire dataset into train, test, and validation sets using a dataframe with just numerical variables. I will evaluate several machine learning classification algorithms, such as:  \n",
    " - Logistic Regression  \n",
    " - Random Forest Classifier  \n",
    " - Naive Bayes  \n",
    "Since churn prediction is a binary classification problem—meaning that users will either churn (1) or stay (0) in a certain length of time.  \n",
    "\n",
    "## Metrics\n",
    "I will evaluate the models' accuracy and adjust the parameters as appropriate. Based on test accuracy, we will ultimately choose our best model, and I will present the validation set findings. I will use F1 score as the metric to improve because the churned users are a very tiny fraction. F1, a metric for model accuracy on a dataset, is used to assess binary classification systems like the one I are evaluating here. F1-score is a method of integrating the model's precision and recall and provides a better assessment of the examples that were mistakenly categorized than accuracy metric. F1 is furthermore stronger at handling unbalanced classes like the ones I have.\n"
   ]
  },
  {
   "cell_type": "markdown",
   "metadata": {
    "id": "efAVDiB5D2rj"
   },
   "source": [
    "#### Training and evaluating models"
   ]
  },
  {
   "cell_type": "code",
   "execution_count": 69,
   "metadata": {
    "id": "q0EP-XJ1D2rk"
   },
   "outputs": [],
   "source": [
    "lr = LogisticRegression(featuresCol = 'features', labelCol = 'label', maxIter=10)\n",
    "rf = RandomForestClassifier(featuresCol = 'features', labelCol = 'label', seed=43)\n",
    "nb = NaiveBayes(featuresCol = 'features', labelCol = 'label')"
   ]
  },
  {
   "cell_type": "markdown",
   "metadata": {
    "id": "FWNwHZS7D2rk"
   },
   "source": [
    "Define the evaluator. Here i am using is multiclassclassificationevaluator to get the F1 scores and create a model list containing all the instances of model created aboved to train in a for loop.\n"
   ]
  },
  {
   "cell_type": "code",
   "execution_count": 70,
   "metadata": {
    "id": "Dxi4oD5TD2rk"
   },
   "outputs": [],
   "source": [
    "model_list = [lr,rf,nb]\n",
    "evaluator = MulticlassClassificationEvaluator(labelCol = 'label', predictionCol='prediction')"
   ]
  },
  {
   "cell_type": "markdown",
   "metadata": {
    "id": "i1S4NT8GD2rl"
   },
   "source": [
    "For loop to fit models in the dataset and perform evaluation on the models"
   ]
  },
  {
   "cell_type": "code",
   "execution_count": 71,
   "metadata": {
    "colab": {
     "base_uri": "https://localhost:8080/"
    },
    "id": "cX2dfW5UD2rl",
    "outputId": "6d77ee76-6ad6-4385-a405-258493156df6"
   },
   "outputs": [
    {
     "name": "stdout",
     "output_type": "stream",
     "text": [
      "====================================================================================================\n",
      "Training session - MODEL NAME: LogisticRegression\n",
      "\n",
      "LogisticRegression training ended\n",
      "Training session for LogisticRegression finished successfully!\n",
      "\n",
      "Training time: 104.57204127311707 seconds\n",
      "EVALUATING REPORT FOR MODEL LogisticRegression\n",
      "F1-score: 0.8043650793650794\n",
      "Accuracy: 0.8\n",
      "====================================================================================================\n",
      "====================================================================================================\n",
      "Training session - MODEL NAME: RandomForestClassifier\n",
      "\n",
      "RandomForestClassifier training ended\n",
      "Training session for RandomForestClassifier finished successfully!\n",
      "\n",
      "Training time: 140.30964422225952 seconds\n",
      "EVALUATING REPORT FOR MODEL RandomForestClassifier\n",
      "F1-score: 0.7942982456140351\n",
      "Accuracy: 0.88\n",
      "====================================================================================================\n",
      "====================================================================================================\n",
      "Training session - MODEL NAME: NaiveBayes\n",
      "\n",
      "NaiveBayes training ended\n",
      "Training session for NaiveBayes finished successfully!\n",
      "\n",
      "Training time: 54.266648292541504 seconds\n",
      "EVALUATING REPORT FOR MODEL NaiveBayes\n",
      "F1-score: 0.6738870431893688\n",
      "Accuracy: 0.78\n",
      "====================================================================================================\n"
     ]
    }
   ],
   "source": [
    "# for loop to go through all our models\n",
    "for model in model_list:\n",
    "    model_name = model.__class__.__name__\n",
    "    print('='*100)\n",
    "    print(f'Training session - MODEL NAME: {model_name}\\n')\n",
    "    start = time.time()\n",
    "    # fit the models on train dataset\n",
    "    model = model.fit(train)\n",
    "    end = time.time()\n",
    "     \n",
    "    # print training ended\n",
    "    print(model_name, 'training ended')\n",
    "    print(f'Training session for {model_name} finished successfully!\\n')\n",
    "    print(f'Training time: {end-start} seconds')\n",
    "    # evaluating\n",
    "    predictions = model.transform(valid)\n",
    "    print(f'EVALUATING REPORT FOR MODEL {model_name}')\n",
    "    print('F1-score:', evaluator.evaluate(predictions, {evaluator.metricName: \"f1\"}))\n",
    "    accuracy = predictions.filter(predictions.label == predictions.prediction).count() / (predictions.count())\n",
    "    print(f\"Accuracy: {accuracy}\")\n",
    "    print('='*100)"
   ]
  },
  {
   "cell_type": "markdown",
   "metadata": {},
   "source": [
    "# Conclusion"
   ]
  },
  {
   "cell_type": "markdown",
   "metadata": {
    "id": "jVo1YU9lXMc9"
   },
   "source": [
    "Here our RF model achieved accuracy of 0.88. In terms of data points, accuracy is the proportion of all predictions that were accurate. Thus, 88 of the 100 predictions we made were true, or 88% of them, for an accuracy of 0.88.  \n",
    "The F1-Score of RF is 0.79. Here, F1 is a metric for assessing the model's performance on a dataset and is applied to binary classification systems like the one we have. F1-score is a method of integrating the model's precision and recall and provides a better assessment of the examples that were mistakenly categorized than accuracy metric. F1 is furthermore stronger at handling unbalanced classes like the ones we have."
   ]
  },
  {
   "cell_type": "markdown",
   "metadata": {},
   "source": [
    "# References"
   ]
  },
  {
   "cell_type": "markdown",
   "metadata": {},
   "source": [
    "https://stackoverflow.com/questions/60772315/how-to-evaluate-a-classifier-with-apache-spark-2-4-5-and-pyspark-python  \n",
    "https://spark.apache.org/docs/2.2.0/ml-classification-regression.html   \n",
    "https://www.silect.is/blog/random-forest-models-in-spark-ml/   \n",
    "https://medium.com/swlh/logistic-regression-with-pyspark-60295d41221     \n",
    "https://medium.com/analytics-vidhya/accuracy-vs-f1-score-6258237beca2\n",
    "https://dhiraj-p-rai.medium.com/essentials-of-feature-engineering-in-pyspark-part-i-76a57680a85 \n",
    "https://medium.com/bazaar-tech/apache-spark-data-cleaning-using-pyspark-for-beginners-eeeced351ebf\n",
    "https://hackersandslackers.com/cleaning-pyspark-dataframes/\n",
    "https://towardsdatascience.com/complete-introduction-to-pyspark-part-4-62a99ce3552a\n",
    "https://jakevdp.github.io/PythonDataScienceHandbook/04.14-visualization-with-seaborn.html"
   ]
  }
 ],
 "metadata": {
  "accelerator": "GPU",
  "colab": {
   "provenance": []
  },
  "gpuClass": "standard",
  "kernelspec": {
   "display_name": "Python 3",
   "language": "python",
   "name": "python3"
  },
  "language_info": {
   "codemirror_mode": {
    "name": "ipython",
    "version": 3
   },
   "file_extension": ".py",
   "mimetype": "text/x-python",
   "name": "python",
   "nbconvert_exporter": "python",
   "pygments_lexer": "ipython3",
   "version": "3.6.13"
  },
  "vscode": {
   "interpreter": {
    "hash": "4ff9d44125b24425fe3c2dce5daacf6db5584fb06329ab2509e868fbb2c68388"
   }
  }
 },
 "nbformat": 4,
 "nbformat_minor": 1
}
